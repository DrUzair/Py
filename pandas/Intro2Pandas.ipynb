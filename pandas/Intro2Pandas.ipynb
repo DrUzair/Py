{
  "nbformat": 4,
  "nbformat_minor": 0,
  "metadata": {
    "colab": {
      "name": "AIDI-1100-W7 Pandas.ipynb",
      "provenance": [],
      "collapsed_sections": [
        "PGS2WktGMfL8",
        "LKUq2-vJmZVx"
      ],
      "toc_visible": true
    },
    "kernelspec": {
      "name": "python3",
      "display_name": "Python 3"
    }
  },
  "cells": [
    {
      "cell_type": "markdown",
      "metadata": {
        "id": "E8UnXTA_VDSb",
        "colab_type": "text"
      },
      "source": [
        "# Pandas"
      ]
    },
    {
      "cell_type": "markdown",
      "metadata": {
        "id": "CMEbkJ16btbb",
        "colab_type": "text"
      },
      "source": [
        "In this lab you are going to learn the Pandas API to process data."
      ]
    },
    {
      "cell_type": "code",
      "metadata": {
        "id": "-0jgjJBWFPfv",
        "colab_type": "code",
        "colab": {
          "base_uri": "https://localhost:8080/",
          "height": 35
        },
        "outputId": "b8767280-7bc7-4abd-cdfc-7239d092f0c3"
      },
      "source": [
        "import numpy as np\n",
        "import pandas as pd\n",
        "pd.__version__"
      ],
      "execution_count": null,
      "outputs": [
        {
          "output_type": "execute_result",
          "data": {
            "application/vnd.google.colaboratory.intrinsic": {
              "type": "string"
            },
            "text/plain": [
              "'1.0.5'"
            ]
          },
          "metadata": {
            "tags": []
          },
          "execution_count": 1
        }
      ]
    },
    {
      "cell_type": "markdown",
      "metadata": {
        "id": "KrQz1-seHBQX",
        "colab_type": "text"
      },
      "source": [
        "# Series"
      ]
    },
    {
      "cell_type": "markdown",
      "metadata": {
        "id": "kwNnH59xNuhR",
        "colab_type": "text"
      },
      "source": [
        "## From list, ndarray, dictionary "
      ]
    },
    {
      "cell_type": "code",
      "metadata": {
        "id": "CGHtMZu3HAwj",
        "colab_type": "code",
        "colab": {
          "base_uri": "https://localhost:8080/",
          "height": 289
        },
        "outputId": "40cfe4e0-4db4-4984-f3bc-814e177b2717"
      },
      "source": [
        "obj = pd.Series([2, 1, -3, 3])\n",
        "print(obj, obj.tolist())\n",
        "obj = pd.Series(np.array([2, 1, -3, 3]))\n",
        "print(obj, obj.tolist())\n",
        "temp_dict = {'Jan':-10, 'Feb':8, 'Mar':13, 'Apr':20, 'May':30}\n",
        "temp_series = pd.Series(temp_dict)\n",
        "print(temp_series)"
      ],
      "execution_count": null,
      "outputs": [
        {
          "output_type": "stream",
          "text": [
            "0    2\n",
            "1    1\n",
            "2   -3\n",
            "3    3\n",
            "dtype: int64 [2, 1, -3, 3]\n",
            "0    2\n",
            "1    1\n",
            "2   -3\n",
            "3    3\n",
            "dtype: int64 [2, 1, -3, 3]\n",
            "Jan   -10\n",
            "Feb     8\n",
            "Mar    13\n",
            "Apr    20\n",
            "May    30\n",
            "dtype: int64\n"
          ],
          "name": "stdout"
        }
      ]
    },
    {
      "cell_type": "code",
      "metadata": {
        "id": "hgU-48QiMTqs",
        "colab_type": "code",
        "colab": {
          "base_uri": "https://localhost:8080/",
          "height": 136
        },
        "outputId": "5342b202-0e79-475b-b0c6-86118dbf83f4"
      },
      "source": [
        "month =['Jan', 'Feb', 'Mar', 'Apr', 'May', 'Jun']\n",
        "temp_series = pd.Series(data=temp_dict, index=month)\n",
        "temp_series\n",
        "# pd.isnull(temp_series)"
      ],
      "execution_count": null,
      "outputs": [
        {
          "output_type": "execute_result",
          "data": {
            "text/plain": [
              "Jan   -10.0\n",
              "Feb     8.0\n",
              "Mar    13.0\n",
              "Apr    20.0\n",
              "May    30.0\n",
              "Jun     NaN\n",
              "dtype: float64"
            ]
          },
          "metadata": {
            "tags": []
          },
          "execution_count": 3
        }
      ]
    },
    {
      "cell_type": "markdown",
      "metadata": {
        "id": "PGS2WktGMfL8",
        "colab_type": "text"
      },
      "source": [
        "## Series Index & Values"
      ]
    },
    {
      "cell_type": "code",
      "metadata": {
        "id": "yOn563OWH3xc",
        "colab_type": "code",
        "colab": {
          "base_uri": "https://localhost:8080/",
          "height": 51
        },
        "outputId": "c743ae91-503d-410a-f5e1-6d1611421869"
      },
      "source": [
        "obj = pd.Series([2, 1, -3, 3])\n",
        "print(obj.index)\n",
        "print(obj.values)"
      ],
      "execution_count": null,
      "outputs": [
        {
          "output_type": "stream",
          "text": [
            "RangeIndex(start=0, stop=4, step=1)\n",
            "[ 2  1 -3  3]\n"
          ],
          "name": "stdout"
        }
      ]
    },
    {
      "cell_type": "markdown",
      "metadata": {
        "id": "HiRCFfyuS1Ti",
        "colab_type": "text"
      },
      "source": [
        "- Reindexing a Series"
      ]
    },
    {
      "cell_type": "code",
      "metadata": {
        "id": "noYubFk0SyfU",
        "colab_type": "code",
        "colab": {
          "base_uri": "https://localhost:8080/",
          "height": 238
        },
        "outputId": "008af799-76f7-41a2-f5b8-5ebdcf7f13ee"
      },
      "source": [
        "s = pd.Series(data = [1,2,3,4,5], index = ['A', 'B', 'C','D','E'])\n",
        "print(\"Original Data Series:\")\n",
        "print(s)\n",
        "s = s.reindex(index = ['B','A','C','D','E'])\n",
        "print(s)"
      ],
      "execution_count": null,
      "outputs": [
        {
          "output_type": "stream",
          "text": [
            "Original Data Series:\n",
            "A    1\n",
            "B    2\n",
            "C    3\n",
            "D    4\n",
            "E    5\n",
            "dtype: int64\n",
            "B    2\n",
            "A    1\n",
            "C    3\n",
            "D    4\n",
            "E    5\n",
            "dtype: int64\n"
          ],
          "name": "stdout"
        }
      ]
    },
    {
      "cell_type": "code",
      "metadata": {
        "id": "2Ioey21JIA3a",
        "colab_type": "code",
        "colab": {
          "base_uri": "https://localhost:8080/",
          "height": 136
        },
        "outputId": "6d516801-03f6-4f29-a46b-b6cca73e988d"
      },
      "source": [
        "obj2 = pd.Series(data=[2, 1, -3, 3], \n",
        "              index=['a', 'b', 'c', 'd'])\n",
        "print(obj2, type(obj2))\n",
        "print(obj2.values, type(obj2.values))\n",
        "print(obj2.values.tolist(), type(obj2.values.tolist()))"
      ],
      "execution_count": null,
      "outputs": [
        {
          "output_type": "stream",
          "text": [
            "a    2\n",
            "b    1\n",
            "c   -3\n",
            "d    3\n",
            "dtype: int64 <class 'pandas.core.series.Series'>\n",
            "[ 2  1 -3  3] <class 'numpy.ndarray'>\n",
            "[2, 1, -3, 3] <class 'list'>\n"
          ],
          "name": "stdout"
        }
      ]
    },
    {
      "cell_type": "markdown",
      "metadata": {
        "id": "YGKgvddkMmYH",
        "colab_type": "text"
      },
      "source": [
        "## Filtering and Searching values\n",
        "Using logical conditions, index"
      ]
    },
    {
      "cell_type": "code",
      "metadata": {
        "id": "RY5F3wT3JqCP",
        "colab_type": "code",
        "colab": {
          "base_uri": "https://localhost:8080/",
          "height": 68
        },
        "outputId": "3b6767da-f0c8-4f44-d09e-32fd53e4fb68"
      },
      "source": [
        "obj2[obj2 < 2]"
      ],
      "execution_count": null,
      "outputs": [
        {
          "output_type": "execute_result",
          "data": {
            "text/plain": [
              "b    1\n",
              "c   -3\n",
              "dtype: int64"
            ]
          },
          "metadata": {
            "tags": []
          },
          "execution_count": 18
        }
      ]
    },
    {
      "cell_type": "code",
      "metadata": {
        "id": "l1DEki70KiO-",
        "colab_type": "code",
        "colab": {
          "base_uri": "https://localhost:8080/",
          "height": 68
        },
        "outputId": "7a130770-0166-4ddf-89b8-45f0e82aa7c4"
      },
      "source": [
        "obj2[['a', 'd']]"
      ],
      "execution_count": null,
      "outputs": [
        {
          "output_type": "execute_result",
          "data": {
            "text/plain": [
              "a    2\n",
              "d    3\n",
              "dtype: int64"
            ]
          },
          "metadata": {
            "tags": []
          },
          "execution_count": 22
        }
      ]
    },
    {
      "cell_type": "code",
      "metadata": {
        "id": "8n7PAAh1NCLg",
        "colab_type": "code",
        "colab": {
          "base_uri": "https://localhost:8080/",
          "height": 119
        },
        "outputId": "b82e74f2-16aa-4857-a220-fbd3384c65af"
      },
      "source": [
        "pd.Series([1,2,3,4, pd.NA]).isnull()"
      ],
      "execution_count": null,
      "outputs": [
        {
          "output_type": "execute_result",
          "data": {
            "text/plain": [
              "0    False\n",
              "1    False\n",
              "2    False\n",
              "3    False\n",
              "4     True\n",
              "dtype: bool"
            ]
          },
          "metadata": {
            "tags": []
          },
          "execution_count": 4
        }
      ]
    },
    {
      "cell_type": "markdown",
      "metadata": {
        "id": "B9qciDEqMyph",
        "colab_type": "text"
      },
      "source": [
        "## Arithmetic Operations & Stats"
      ]
    },
    {
      "cell_type": "code",
      "metadata": {
        "id": "M0ZEcKPbJx88",
        "colab_type": "code",
        "colab": {
          "base_uri": "https://localhost:8080/",
          "height": 102
        },
        "outputId": "11ea1407-c17d-4b68-d01e-7c765d804c32"
      },
      "source": [
        "obj2 * 2"
      ],
      "execution_count": null,
      "outputs": [
        {
          "output_type": "execute_result",
          "data": {
            "text/plain": [
              "a    4\n",
              "b    2\n",
              "c   -6\n",
              "d    6\n",
              "dtype: int64"
            ]
          },
          "metadata": {
            "tags": []
          },
          "execution_count": 41
        }
      ]
    },
    {
      "cell_type": "code",
      "metadata": {
        "id": "1c07GkfyKOsl",
        "colab_type": "code",
        "colab": {
          "base_uri": "https://localhost:8080/",
          "height": 102
        },
        "outputId": "c6b2a96e-68e5-4249-d1de-5f9cb2e46eb0"
      },
      "source": [
        "import numpy as np\n",
        "np.exp(obj2)\n",
        "# np.exp(obj2.values) # check the difference"
      ],
      "execution_count": null,
      "outputs": [
        {
          "output_type": "execute_result",
          "data": {
            "text/plain": [
              "a     7.389056\n",
              "b     2.718282\n",
              "c     0.049787\n",
              "d    20.085537\n",
              "dtype: float64"
            ]
          },
          "metadata": {
            "tags": []
          },
          "execution_count": 44
        }
      ]
    },
    {
      "cell_type": "code",
      "metadata": {
        "id": "bl9uJdiemNE7",
        "colab_type": "code",
        "colab": {}
      },
      "source": [
        "import pandas as pd\n",
        "ds1 = pd.Series([2, 4, 6, 8, 10])\n",
        "ds2 = pd.Series([1, 3, 5, 7, 9])\n",
        "print(ds1 + ds2)\n",
        "print(ds1 * ds2)\n",
        "print(ds1 / ds2)"
      ],
      "execution_count": null,
      "outputs": []
    },
    {
      "cell_type": "code",
      "metadata": {
        "id": "lxvNfc8KTii4",
        "colab_type": "code",
        "colab": {}
      },
      "source": [
        "s = pd.Series(data = [1,2,3,4,5,6,7,8,9,5,3])\n",
        "print(\"Mean of the said Data Series:{0}\".format(s.mean()))\n",
        "print(\"Standard deviation of the said Data Series: {0}\".format(s.std()))\n",
        "print(\"Variance of the Data Series: {0}\".format(s.var()))\n",
        "print(\"Variance of the Data Series: {0}\".format(s.quantile(q=0.1)))\n",
        "print(\"Min, Max and median of the Data Series: {0}, {1}, {2}\".format(s.min(), s.max(), s.median()))"
      ],
      "execution_count": null,
      "outputs": []
    },
    {
      "cell_type": "markdown",
      "metadata": {
        "id": "PbjEg1SsZ4Ne",
        "colab_type": "text"
      },
      "source": [
        "- Sample Frequency Distribution"
      ]
    },
    {
      "cell_type": "code",
      "metadata": {
        "id": "Z05-_xG4Z7j-",
        "colab_type": "code",
        "colab": {}
      },
      "source": [
        "num_series = pd.Series([1, 1, 1, 2, 2, 1, 2, 4, 5, 3])\n",
        "print(\"Frequency of each unique value of the said series.\")\n",
        "result = num_series.value_counts()\n",
        "# result = num_series.sort_values().value_counts()\n",
        "print(result)\n",
        "print(type(result))"
      ],
      "execution_count": null,
      "outputs": []
    },
    {
      "cell_type": "markdown",
      "metadata": {
        "id": "ESV_NnZOFGNE",
        "colab_type": "text"
      },
      "source": [
        "- autocorrelation"
      ]
    },
    {
      "cell_type": "code",
      "metadata": {
        "id": "AtGbxPQSap28",
        "colab_type": "code",
        "colab": {
          "base_uri": "https://localhost:8080/",
          "height": 34
        },
        "outputId": "d1894404-41fc-4500-9029-b6c65c590b61"
      },
      "source": [
        "num_series = pd.Series([1, 1, 1, 2, 2, 1, 2, 4, 5, 3])\n",
        "num_series.autocorr(lag=1)"
      ],
      "execution_count": null,
      "outputs": [
        {
          "output_type": "execute_result",
          "data": {
            "text/plain": [
              "0.6488856845230502"
            ]
          },
          "metadata": {
            "tags": []
          },
          "execution_count": 137
        }
      ]
    },
    {
      "cell_type": "markdown",
      "metadata": {
        "id": "LnLqLbifKSRG",
        "colab_type": "text"
      },
      "source": [
        "- argmax()"
      ]
    },
    {
      "cell_type": "code",
      "metadata": {
        "id": "8jTcoFN5KRO_",
        "colab_type": "code",
        "colab": {
          "base_uri": "https://localhost:8080/",
          "height": 34
        },
        "outputId": "e397061c-697b-4333-cd67-b3c434698a90"
      },
      "source": [
        "num_series = pd.Series([1, 1, 1, 2, 2, 1, 2, 4, 5, 3])\n",
        "num_series.argmax()"
      ],
      "execution_count": null,
      "outputs": [
        {
          "output_type": "execute_result",
          "data": {
            "text/plain": [
              "8"
            ]
          },
          "metadata": {
            "tags": []
          },
          "execution_count": 62
        }
      ]
    },
    {
      "cell_type": "markdown",
      "metadata": {
        "id": "LKUq2-vJmZVx",
        "colab_type": "text"
      },
      "source": [
        "## Logical Operations"
      ]
    },
    {
      "cell_type": "code",
      "metadata": {
        "id": "jnl2E4sgmbVJ",
        "colab_type": "code",
        "colab": {
          "base_uri": "https://localhost:8080/",
          "height": 340
        },
        "outputId": "29123104-1964-44b0-db17-688d7641c0a3"
      },
      "source": [
        "import pandas as pd\n",
        "ds1 = pd.Series([2, 4, 6, 8, 10])\n",
        "ds2 = pd.Series([1, 3, 5, 7, 9])\n",
        "print(ds1 > ds2)\n",
        "print(ds1 == ds2)\n",
        "print(ds1 % ds2 == 0)\n",
        "print(ds1[ds1 % 5 == 0].index)"
      ],
      "execution_count": null,
      "outputs": [
        {
          "output_type": "stream",
          "text": [
            "0    True\n",
            "1    True\n",
            "2    True\n",
            "3    True\n",
            "4    True\n",
            "dtype: bool\n",
            "0    False\n",
            "1    False\n",
            "2    False\n",
            "3    False\n",
            "4    False\n",
            "dtype: bool\n",
            "0     True\n",
            "1    False\n",
            "2    False\n",
            "3    False\n",
            "4    False\n",
            "dtype: bool\n",
            "4\n"
          ],
          "name": "stdout"
        }
      ]
    },
    {
      "cell_type": "code",
      "metadata": {
        "id": "FFjf5w4SeYOQ",
        "colab_type": "code",
        "colab": {
          "base_uri": "https://localhost:8080/",
          "height": 85
        },
        "outputId": "b40255a2-b8ab-4f3e-d609-3617b0b06fad"
      },
      "source": [
        "ds1[[1,2,3]]\n",
        "ds1.take([1,2,3])"
      ],
      "execution_count": null,
      "outputs": [
        {
          "output_type": "execute_result",
          "data": {
            "text/plain": [
              "1    4\n",
              "2    6\n",
              "3    8\n",
              "dtype: int64"
            ]
          },
          "metadata": {
            "tags": []
          },
          "execution_count": 99
        }
      ]
    },
    {
      "cell_type": "markdown",
      "metadata": {
        "id": "lBnlbS4lV5V0",
        "colab_type": "text"
      },
      "source": [
        "## Set Difference\n",
        "- Series.isin()"
      ]
    },
    {
      "cell_type": "code",
      "metadata": {
        "id": "4_FKbRhDV9mY",
        "colab_type": "code",
        "colab": {
          "base_uri": "https://localhost:8080/",
          "height": 289
        },
        "outputId": "b3e352da-0b01-42cb-9d1a-9418fd54750f"
      },
      "source": [
        "sr1 = pd.Series([1, 2, 3, 4, 5])\n",
        "sr2 = pd.Series([2, 4, 6, 8, 10])\n",
        "print(\"Items of sr1 not present in sr2:\", sr1[~sr1.isin(sr2)])\n",
        "print(\"Items of sr2 not present in sr1:\", sr2[~sr2.isin(sr1)])\n",
        "print(\"Items of sr1 present in sr2:\\n\", sr1[sr1.isin(sr2)])\n",
        "print(\"Items of sr2 present in sr1:\\n\", sr2[sr2.isin(sr1)])"
      ],
      "execution_count": null,
      "outputs": [
        {
          "output_type": "stream",
          "text": [
            "Items of sr1 not present in sr2: 0    1\n",
            "2    3\n",
            "4    5\n",
            "dtype: int64\n",
            "Items of sr2 not present in sr1: 2     6\n",
            "3     8\n",
            "4    10\n",
            "dtype: int64\n",
            "Items of sr1 present in sr2:\n",
            " 1    2\n",
            "3    4\n",
            "dtype: int64\n",
            "Items of sr2 present in sr1:\n",
            " 0    2\n",
            "1    4\n",
            "dtype: int64\n"
          ],
          "name": "stdout"
        }
      ]
    },
    {
      "cell_type": "markdown",
      "metadata": {
        "id": "4hV1fbdyyQmv",
        "colab_type": "text"
      },
      "source": [
        "## Linear Algebric operation"
      ]
    },
    {
      "cell_type": "markdown",
      "metadata": {
        "id": "noTJxGL-yaMu",
        "colab_type": "text"
      },
      "source": [
        "### Euclidean Distance "
      ]
    },
    {
      "cell_type": "code",
      "metadata": {
        "id": "IxvlYN63yYVK",
        "colab_type": "code",
        "colab": {}
      },
      "source": [
        "x = pd.Series([1, 2, 3, 4, 5, 6, 7, 8, 9, 10])\n",
        "y = pd.Series([11, 8, 7, 5, 6, 5, 3, 4, 7, 1])\n",
        "print(\"Original series:\")\n",
        "print(x)\n",
        "print(y)\n",
        "print(\"\\nEuclidean distance between two said series:\")\n",
        "print(np.linalg.norm(norm(x-y))\n",
        "Copy\n",
        "Sample Output:"
      ],
      "execution_count": null,
      "outputs": []
    },
    {
      "cell_type": "markdown",
      "metadata": {
        "id": "hfSZHE2AhdO2",
        "colab_type": "text"
      },
      "source": [
        "## Differencing a Series"
      ]
    },
    {
      "cell_type": "code",
      "metadata": {
        "id": "KpvwQNvdhg7b",
        "colab_type": "code",
        "colab": {
          "base_uri": "https://localhost:8080/",
          "height": 221
        },
        "outputId": "17f8d4eb-b233-4532-829b-95aed39ee17e"
      },
      "source": [
        "series1 = pd.Series([1, 3, 5, 8, 10, 11, 15])\n",
        "print(\"Original Series:\")\n",
        "print(series1)\n",
        "print(\"\\nDifference of differences between consecutive numbers of the said series:\")\n",
        "print(series1.diff().tolist())"
      ],
      "execution_count": null,
      "outputs": [
        {
          "output_type": "stream",
          "text": [
            "Original Series:\n",
            "0     1\n",
            "1     3\n",
            "2     5\n",
            "3     8\n",
            "4    10\n",
            "5    11\n",
            "6    15\n",
            "dtype: int64\n",
            "\n",
            "Difference of differences between consecutive numbers of the said series:\n",
            "[nan, 2.0, 2.0, 3.0, 2.0, 1.0, 4.0]\n"
          ],
          "name": "stdout"
        }
      ]
    },
    {
      "cell_type": "markdown",
      "metadata": {
        "id": "swrm7DHsoRz3",
        "colab_type": "text"
      },
      "source": [
        "## Changing Data Type"
      ]
    },
    {
      "cell_type": "markdown",
      "metadata": {
        "id": "Sxfnrqt5LLea",
        "colab_type": "text"
      },
      "source": [
        "- astype()"
      ]
    },
    {
      "cell_type": "code",
      "metadata": {
        "id": "eJ8fhieULOf_",
        "colab_type": "code",
        "colab": {
          "base_uri": "https://localhost:8080/",
          "height": 119
        },
        "outputId": "9c90b0ab-998c-44ff-f7ac-e90a0a81083c"
      },
      "source": [
        "import pandas as pd\n",
        "s1 = pd.Series(['1', '2', '3', '4', '5'])\n",
        "s1.astype(int)"
      ],
      "execution_count": null,
      "outputs": [
        {
          "output_type": "execute_result",
          "data": {
            "text/plain": [
              "0    1\n",
              "1    2\n",
              "2    3\n",
              "3    4\n",
              "4    5\n",
              "dtype: int64"
            ]
          },
          "metadata": {
            "tags": []
          },
          "execution_count": 64
        }
      ]
    },
    {
      "cell_type": "markdown",
      "metadata": {
        "id": "oXDcMTmKLAIs",
        "colab_type": "text"
      },
      "source": [
        "- pd.to_numeric"
      ]
    },
    {
      "cell_type": "code",
      "metadata": {
        "id": "GSqkwKE8oVqb",
        "colab_type": "code",
        "colab": {
          "base_uri": "https://localhost:8080/",
          "height": 119
        },
        "outputId": "4e11e742-ffa3-4d54-f7e3-2ac0ea7614bb"
      },
      "source": [
        "import pandas as pd\n",
        "s1 = pd.Series(['100', '200', 'python', '300.12', '400'])\n",
        "s2 = pd.to_numeric(s1, errors='coerce')\n",
        "s2"
      ],
      "execution_count": null,
      "outputs": [
        {
          "output_type": "execute_result",
          "data": {
            "text/plain": [
              "0    100.00\n",
              "1    200.00\n",
              "2       NaN\n",
              "3    300.12\n",
              "4    400.00\n",
              "dtype: float64"
            ]
          },
          "metadata": {
            "tags": []
          },
          "execution_count": 24
        }
      ]
    },
    {
      "cell_type": "markdown",
      "metadata": {
        "id": "OG9F2MhihyTE",
        "colab_type": "text"
      },
      "source": [
        "- pd.to_datetime, Time Series"
      ]
    },
    {
      "cell_type": "code",
      "metadata": {
        "id": "ONFhleZ6hxHh",
        "colab_type": "code",
        "colab": {
          "base_uri": "https://localhost:8080/",
          "height": 425
        },
        "outputId": "c14108a3-2648-439f-e702-1c3e830517ae"
      },
      "source": [
        "import pandas as pd\n",
        "date_series = pd.Series(['01 Jan 2015', '10-02-2016', '20180307', '2014/05/06', '2016-04-12', '2019-04-06T11:20'])\n",
        "print(\"Original Series:\")\n",
        "print(date_series)\n",
        "print(\"\\nSeries of date strings to a timeseries:\")\n",
        "time_series = pd.to_datetime(date_series)\n",
        "print(time_series)\n",
        "# time_series.dt.year\n",
        "# time_series.dt.month\n",
        "# time_series.dt.day\n",
        "# time_series.dt.day_name\n",
        "# time_series.dt.date"
      ],
      "execution_count": null,
      "outputs": [
        {
          "output_type": "stream",
          "text": [
            "Original Series:\n",
            "0         01 Jan 2015\n",
            "1          10-02-2016\n",
            "2            20180307\n",
            "3          2014/05/06\n",
            "4          2016-04-12\n",
            "5    2019-04-06T11:20\n",
            "dtype: object\n",
            "\n",
            "Series of date strings to a timeseries:\n",
            "0   2015-01-01 00:00:00\n",
            "1   2016-10-02 00:00:00\n",
            "2   2018-03-07 00:00:00\n",
            "3   2014-05-06 00:00:00\n",
            "4   2016-04-12 00:00:00\n",
            "5   2019-04-06 11:20:00\n",
            "dtype: datetime64[ns]\n"
          ],
          "name": "stdout"
        },
        {
          "output_type": "execute_result",
          "data": {
            "text/plain": [
              "0    2015-01-01\n",
              "1    2016-10-02\n",
              "2    2018-03-07\n",
              "3    2014-05-06\n",
              "4    2016-04-12\n",
              "5    2019-04-06\n",
              "dtype: object"
            ]
          },
          "metadata": {
            "tags": []
          },
          "execution_count": 109
        }
      ]
    },
    {
      "cell_type": "markdown",
      "metadata": {
        "id": "tC2W-MDswn_t",
        "colab_type": "text"
      },
      "source": [
        "## Time Series"
      ]
    },
    {
      "cell_type": "markdown",
      "metadata": {
        "id": "2l7VKo4FP9gQ",
        "colab_type": "text"
      },
      "source": [
        "## Combining Multiple Series"
      ]
    },
    {
      "cell_type": "code",
      "metadata": {
        "id": "oUCXYjhrQCUC",
        "colab_type": "code",
        "colab": {
          "base_uri": "https://localhost:8080/",
          "height": 340
        },
        "outputId": "3c8db337-0e3a-4184-93ab-2ed2a7e85cb7"
      },
      "source": [
        "import pandas as pd\n",
        "s = pd.Series([\n",
        "    ['Red', 'Green', 'White'],\n",
        "    ['Red', 'Black'],\n",
        "    ['Yellow']])\n",
        "print(\"Original Series of list\")\n",
        "print(s)\n",
        "s = s.apply(pd.Series).stack()\n",
        "print(s)\n",
        "s = s.apply(pd.Series).stack().reset_index(drop=True)\n",
        "print(s)"
      ],
      "execution_count": null,
      "outputs": [
        {
          "output_type": "stream",
          "text": [
            "Original Series of list\n",
            "0    [Red, Green, White]\n",
            "1           [Red, Black]\n",
            "2               [Yellow]\n",
            "dtype: object\n",
            "0  0       Red\n",
            "   1     Green\n",
            "   2     White\n",
            "1  0       Red\n",
            "   1     Black\n",
            "2  0    Yellow\n",
            "dtype: object\n",
            "0       Red\n",
            "1     Green\n",
            "2     White\n",
            "3       Red\n",
            "4     Black\n",
            "5    Yellow\n",
            "dtype: object\n"
          ],
          "name": "stdout"
        }
      ]
    },
    {
      "cell_type": "markdown",
      "metadata": {
        "id": "3Hehb7PJSCHr",
        "colab_type": "text"
      },
      "source": [
        "## Adding / Removing values\n",
        "Similar to python list, append method is used to add data to an existing Series object."
      ]
    },
    {
      "cell_type": "code",
      "metadata": {
        "id": "nNgf7ThTSI27",
        "colab_type": "code",
        "colab": {
          "base_uri": "https://localhost:8080/",
          "height": 306
        },
        "outputId": "ce496114-ce9e-4e36-8c7f-1d74ed8d74a1"
      },
      "source": [
        "import pandas as pd\n",
        "s = pd.Series(['100', '200', 'python', '300.12', '400'])\n",
        "print(\"Original Data Series:\")\n",
        "print(s)\n",
        "print(\"\\nData Series after adding some data:\")\n",
        "new_s = s.append(pd.Series(['500', 'php']))\n",
        "print(new_s)"
      ],
      "execution_count": null,
      "outputs": [
        {
          "output_type": "stream",
          "text": [
            "Original Data Series:\n",
            "0       100\n",
            "1       200\n",
            "2    python\n",
            "3    300.12\n",
            "4       400\n",
            "dtype: object\n",
            "\n",
            "Data Series after adding some data:\n",
            "0       100\n",
            "1       200\n",
            "2    python\n",
            "3    300.12\n",
            "4       400\n",
            "0       500\n",
            "1       php\n",
            "dtype: object\n"
          ],
          "name": "stdout"
        }
      ]
    },
    {
      "cell_type": "markdown",
      "metadata": {
        "id": "6ZaNoJBEQXw5",
        "colab_type": "text"
      },
      "source": [
        "## Sorting Series by values"
      ]
    },
    {
      "cell_type": "code",
      "metadata": {
        "id": "CYYEE9ofQav9",
        "colab_type": "code",
        "colab": {
          "base_uri": "https://localhost:8080/",
          "height": 272
        },
        "outputId": "cb738843-6232-406c-8a96-98ec4b5f841d"
      },
      "source": [
        "import pandas as pd\n",
        "s = pd.Series([3, 1, 2, 4, 5, 1])\n",
        "print(\"Original Data Series:\")\n",
        "print(s)\n",
        "new_s = s.sort_values()\n",
        "# new_s = pd.Series.sort_values(s) # equivalent\n",
        "print(new_s)"
      ],
      "execution_count": null,
      "outputs": [
        {
          "output_type": "stream",
          "text": [
            "Original Data Series:\n",
            "0    3\n",
            "1    1\n",
            "2    2\n",
            "3    4\n",
            "4    5\n",
            "5    1\n",
            "dtype: int64\n",
            "1    1\n",
            "5    1\n",
            "2    2\n",
            "0    3\n",
            "3    4\n",
            "4    5\n",
            "dtype: int64\n"
          ],
          "name": "stdout"
        }
      ]
    },
    {
      "cell_type": "markdown",
      "metadata": {
        "id": "gI-N5ERGfYt0",
        "colab_type": "text"
      },
      "source": [
        "## mapping a function"
      ]
    },
    {
      "cell_type": "code",
      "metadata": {
        "id": "hBJ9vmO-fbDt",
        "colab_type": "code",
        "colab": {
          "base_uri": "https://localhost:8080/",
          "height": 221
        },
        "outputId": "d2a3739b-ffa4-43dc-a310-226b4c05d1d1"
      },
      "source": [
        "import pandas as pd\n",
        "series1 = pd.Series(['Php', 'Python', 'Java', 'C#'])\n",
        "print(\"Original Series:\")\n",
        "print(series1)\n",
        "result = series1.map(lambda x: len(x))\n",
        "print(result)\n",
        "print(series1.map(lambda x: len(x)).max())\n"
      ],
      "execution_count": null,
      "outputs": [
        {
          "output_type": "stream",
          "text": [
            "Original Series:\n",
            "0       Php\n",
            "1    Python\n",
            "2      Java\n",
            "3        C#\n",
            "dtype: object\n",
            "0    3\n",
            "1    6\n",
            "2    4\n",
            "3    2\n",
            "dtype: int64\n",
            "6\n"
          ],
          "name": "stdout"
        }
      ]
    },
    {
      "cell_type": "markdown",
      "metadata": {
        "id": "OV_tvmYIOAU0",
        "colab_type": "text"
      },
      "source": [
        "# DataFrame"
      ]
    },
    {
      "cell_type": "code",
      "metadata": {
        "id": "gvpS9UgzN_gb",
        "colab_type": "code",
        "colab": {
          "base_uri": "https://localhost:8080/",
          "height": 234
        },
        "outputId": "685f4b72-c781-49de-adc2-2adb2783db24"
      },
      "source": [
        "temp_df = pd.DataFrame(data=temp_series, columns=['Temp'])\n",
        "temp_df"
      ],
      "execution_count": null,
      "outputs": [
        {
          "output_type": "execute_result",
          "data": {
            "text/html": [
              "<div>\n",
              "<style scoped>\n",
              "    .dataframe tbody tr th:only-of-type {\n",
              "        vertical-align: middle;\n",
              "    }\n",
              "\n",
              "    .dataframe tbody tr th {\n",
              "        vertical-align: top;\n",
              "    }\n",
              "\n",
              "    .dataframe thead th {\n",
              "        text-align: right;\n",
              "    }\n",
              "</style>\n",
              "<table border=\"1\" class=\"dataframe\">\n",
              "  <thead>\n",
              "    <tr style=\"text-align: right;\">\n",
              "      <th></th>\n",
              "      <th>Temp</th>\n",
              "    </tr>\n",
              "  </thead>\n",
              "  <tbody>\n",
              "    <tr>\n",
              "      <th>Jan</th>\n",
              "      <td>-10.0</td>\n",
              "    </tr>\n",
              "    <tr>\n",
              "      <th>Feb</th>\n",
              "      <td>8.0</td>\n",
              "    </tr>\n",
              "    <tr>\n",
              "      <th>Mar</th>\n",
              "      <td>13.0</td>\n",
              "    </tr>\n",
              "    <tr>\n",
              "      <th>Apr</th>\n",
              "      <td>20.0</td>\n",
              "    </tr>\n",
              "    <tr>\n",
              "      <th>May</th>\n",
              "      <td>30.0</td>\n",
              "    </tr>\n",
              "    <tr>\n",
              "      <th>Jun</th>\n",
              "      <td>NaN</td>\n",
              "    </tr>\n",
              "  </tbody>\n",
              "</table>\n",
              "</div>"
            ],
            "text/plain": [
              "     Temp\n",
              "Jan -10.0\n",
              "Feb   8.0\n",
              "Mar  13.0\n",
              "Apr  20.0\n",
              "May  30.0\n",
              "Jun   NaN"
            ]
          },
          "metadata": {
            "tags": []
          },
          "execution_count": 33
        }
      ]
    },
    {
      "cell_type": "code",
      "metadata": {
        "id": "vXgYKH9ZOzzJ",
        "colab_type": "code",
        "colab": {
          "base_uri": "https://localhost:8080/",
          "height": 137
        },
        "outputId": "c5f5e7f0-a772-41eb-9652-ceb027cd917e"
      },
      "source": [
        "temp_df['Temp']"
      ],
      "execution_count": null,
      "outputs": [
        {
          "output_type": "execute_result",
          "data": {
            "text/plain": [
              "Jan   -10.0\n",
              "Feb     8.0\n",
              "Mar    13.0\n",
              "Apr    20.0\n",
              "May    30.0\n",
              "Jun     NaN\n",
              "Name: Temp, dtype: float64"
            ]
          },
          "metadata": {
            "tags": []
          },
          "execution_count": 35
        }
      ]
    },
    {
      "cell_type": "code",
      "metadata": {
        "id": "AE4yJQawQE79",
        "colab_type": "code",
        "colab": {
          "base_uri": "https://localhost:8080/",
          "height": 51
        },
        "outputId": "2e93d51f-71a6-40e9-f24f-58770dfb8614"
      },
      "source": [
        "temp_df.loc['Jan']"
      ],
      "execution_count": null,
      "outputs": [
        {
          "output_type": "execute_result",
          "data": {
            "text/plain": [
              "Temp   -10.0\n",
              "Name: Jan, dtype: float64"
            ]
          },
          "metadata": {
            "tags": []
          },
          "execution_count": 36
        }
      ]
    },
    {
      "cell_type": "code",
      "metadata": {
        "id": "yNyO1J6sQQvh",
        "colab_type": "code",
        "colab": {}
      },
      "source": [
        "temp_df['Humid'] = pd.Series({'Jan':23, 'Feb':30, 'Mar':33, 'Apr':40, 'Jun':30})"
      ],
      "execution_count": null,
      "outputs": []
    },
    {
      "cell_type": "code",
      "metadata": {
        "id": "mmEuFisDQlov",
        "colab_type": "code",
        "colab": {
          "base_uri": "https://localhost:8080/",
          "height": 234
        },
        "outputId": "ccae6c9d-1d45-46a0-d4b6-a2308e58bef4"
      },
      "source": [
        "temp_df"
      ],
      "execution_count": null,
      "outputs": [
        {
          "output_type": "execute_result",
          "data": {
            "text/html": [
              "<div>\n",
              "<style scoped>\n",
              "    .dataframe tbody tr th:only-of-type {\n",
              "        vertical-align: middle;\n",
              "    }\n",
              "\n",
              "    .dataframe tbody tr th {\n",
              "        vertical-align: top;\n",
              "    }\n",
              "\n",
              "    .dataframe thead th {\n",
              "        text-align: right;\n",
              "    }\n",
              "</style>\n",
              "<table border=\"1\" class=\"dataframe\">\n",
              "  <thead>\n",
              "    <tr style=\"text-align: right;\">\n",
              "      <th></th>\n",
              "      <th>Temp</th>\n",
              "      <th>Humid</th>\n",
              "    </tr>\n",
              "  </thead>\n",
              "  <tbody>\n",
              "    <tr>\n",
              "      <th>Jan</th>\n",
              "      <td>-10.0</td>\n",
              "      <td>23.0</td>\n",
              "    </tr>\n",
              "    <tr>\n",
              "      <th>Feb</th>\n",
              "      <td>8.0</td>\n",
              "      <td>30.0</td>\n",
              "    </tr>\n",
              "    <tr>\n",
              "      <th>Mar</th>\n",
              "      <td>13.0</td>\n",
              "      <td>33.0</td>\n",
              "    </tr>\n",
              "    <tr>\n",
              "      <th>Apr</th>\n",
              "      <td>20.0</td>\n",
              "      <td>40.0</td>\n",
              "    </tr>\n",
              "    <tr>\n",
              "      <th>May</th>\n",
              "      <td>30.0</td>\n",
              "      <td>NaN</td>\n",
              "    </tr>\n",
              "    <tr>\n",
              "      <th>Jun</th>\n",
              "      <td>NaN</td>\n",
              "      <td>30.0</td>\n",
              "    </tr>\n",
              "  </tbody>\n",
              "</table>\n",
              "</div>"
            ],
            "text/plain": [
              "     Temp  Humid\n",
              "Jan -10.0   23.0\n",
              "Feb   8.0   30.0\n",
              "Mar  13.0   33.0\n",
              "Apr  20.0   40.0\n",
              "May  30.0    NaN\n",
              "Jun   NaN   30.0"
            ]
          },
          "metadata": {
            "tags": []
          },
          "execution_count": 39
        }
      ]
    },
    {
      "cell_type": "code",
      "metadata": {
        "id": "A-nqlHnphNY8",
        "colab_type": "code",
        "colab": {
          "base_uri": "https://localhost:8080/",
          "height": 142
        },
        "outputId": "97a19e26-afe1-4eae-93ac-52fe82f8161f"
      },
      "source": [
        "sales = [{'account': 'Jones LLC', 'Jan': 150, 'Feb': 200, 'Mar': 140},\n",
        "         {'account': 'Alpha Co',  'Jan': 200, 'Feb': 210, 'Mar': 215},\n",
        "         {'account': 'Blue Inc',  'Jan': 50,  'Feb': 90,  'Mar': 95 }]\n",
        "df = pd.DataFrame(sales)\n",
        "df"
      ],
      "execution_count": null,
      "outputs": [
        {
          "output_type": "execute_result",
          "data": {
            "text/html": [
              "<div>\n",
              "<style scoped>\n",
              "    .dataframe tbody tr th:only-of-type {\n",
              "        vertical-align: middle;\n",
              "    }\n",
              "\n",
              "    .dataframe tbody tr th {\n",
              "        vertical-align: top;\n",
              "    }\n",
              "\n",
              "    .dataframe thead th {\n",
              "        text-align: right;\n",
              "    }\n",
              "</style>\n",
              "<table border=\"1\" class=\"dataframe\">\n",
              "  <thead>\n",
              "    <tr style=\"text-align: right;\">\n",
              "      <th></th>\n",
              "      <th>account</th>\n",
              "      <th>Jan</th>\n",
              "      <th>Feb</th>\n",
              "      <th>Mar</th>\n",
              "    </tr>\n",
              "  </thead>\n",
              "  <tbody>\n",
              "    <tr>\n",
              "      <th>0</th>\n",
              "      <td>Jones LLC</td>\n",
              "      <td>150</td>\n",
              "      <td>200</td>\n",
              "      <td>140</td>\n",
              "    </tr>\n",
              "    <tr>\n",
              "      <th>1</th>\n",
              "      <td>Alpha Co</td>\n",
              "      <td>200</td>\n",
              "      <td>210</td>\n",
              "      <td>215</td>\n",
              "    </tr>\n",
              "    <tr>\n",
              "      <th>2</th>\n",
              "      <td>Blue Inc</td>\n",
              "      <td>50</td>\n",
              "      <td>90</td>\n",
              "      <td>95</td>\n",
              "    </tr>\n",
              "  </tbody>\n",
              "</table>\n",
              "</div>"
            ],
            "text/plain": [
              "     account  Jan  Feb  Mar\n",
              "0  Jones LLC  150  200  140\n",
              "1   Alpha Co  200  210  215\n",
              "2   Blue Inc   50   90   95"
            ]
          },
          "metadata": {
            "tags": []
          },
          "execution_count": 19
        }
      ]
    },
    {
      "cell_type": "code",
      "metadata": {
        "id": "wyE_JivyhfaY",
        "colab_type": "code",
        "colab": {
          "base_uri": "https://localhost:8080/",
          "height": 142
        },
        "outputId": "763cf7f5-ea52-4249-fb97-7a2566ffe7c2"
      },
      "source": [
        "from collections import OrderedDict\n",
        "sales = OrderedDict([ ('account', ['Jones LLC', 'Alpha Co', 'Blue Inc']),\n",
        "          ('Jan', [150, 200, 50]),\n",
        "          ('Feb',  [200, 210, 90]),\n",
        "          ('Mar', [140, 215, 95]) ] )\n",
        "df = pd.DataFrame.from_dict(sales)\n",
        "df"
      ],
      "execution_count": null,
      "outputs": [
        {
          "output_type": "execute_result",
          "data": {
            "text/html": [
              "<div>\n",
              "<style scoped>\n",
              "    .dataframe tbody tr th:only-of-type {\n",
              "        vertical-align: middle;\n",
              "    }\n",
              "\n",
              "    .dataframe tbody tr th {\n",
              "        vertical-align: top;\n",
              "    }\n",
              "\n",
              "    .dataframe thead th {\n",
              "        text-align: right;\n",
              "    }\n",
              "</style>\n",
              "<table border=\"1\" class=\"dataframe\">\n",
              "  <thead>\n",
              "    <tr style=\"text-align: right;\">\n",
              "      <th></th>\n",
              "      <th>account</th>\n",
              "      <th>Jan</th>\n",
              "      <th>Feb</th>\n",
              "      <th>Mar</th>\n",
              "    </tr>\n",
              "  </thead>\n",
              "  <tbody>\n",
              "    <tr>\n",
              "      <th>0</th>\n",
              "      <td>Jones LLC</td>\n",
              "      <td>150</td>\n",
              "      <td>200</td>\n",
              "      <td>140</td>\n",
              "    </tr>\n",
              "    <tr>\n",
              "      <th>1</th>\n",
              "      <td>Alpha Co</td>\n",
              "      <td>200</td>\n",
              "      <td>210</td>\n",
              "      <td>215</td>\n",
              "    </tr>\n",
              "    <tr>\n",
              "      <th>2</th>\n",
              "      <td>Blue Inc</td>\n",
              "      <td>50</td>\n",
              "      <td>90</td>\n",
              "      <td>95</td>\n",
              "    </tr>\n",
              "  </tbody>\n",
              "</table>\n",
              "</div>"
            ],
            "text/plain": [
              "     account  Jan  Feb  Mar\n",
              "0  Jones LLC  150  200  140\n",
              "1   Alpha Co  200  210  215\n",
              "2   Blue Inc   50   90   95"
            ]
          },
          "metadata": {
            "tags": []
          },
          "execution_count": 13
        }
      ]
    },
    {
      "cell_type": "markdown",
      "metadata": {
        "id": "2Iz30l-_Ssmi",
        "colab_type": "text"
      },
      "source": [
        "## From csv"
      ]
    },
    {
      "cell_type": "code",
      "metadata": {
        "id": "EiXphuVJSv6a",
        "colab_type": "code",
        "colab": {}
      },
      "source": [
        "pd.read_csv('movies_metadata.csv')"
      ],
      "execution_count": null,
      "outputs": []
    },
    {
      "cell_type": "markdown",
      "metadata": {
        "id": "_Ordpi4PhRsP",
        "colab_type": "text"
      },
      "source": [
        "## From Lists"
      ]
    },
    {
      "cell_type": "code",
      "metadata": {
        "id": "_Ae65KgqhTSe",
        "colab_type": "code",
        "colab": {}
      },
      "source": [
        "sales = {'account': ['Jones LLC', 'Alpha Co', 'Blue Inc'],\n",
        "         'Jan': [150, 200, 50],\n",
        "         'Feb': [200, 210, 90],\n",
        "         'Mar': [140, 215, 95]}\n",
        "df_sales = pd.DataFrame.from_dict(sales)"
      ],
      "execution_count": null,
      "outputs": []
    },
    {
      "cell_type": "markdown",
      "metadata": {
        "id": "whW_njz2hCZH",
        "colab_type": "text"
      },
      "source": [
        "## From Records"
      ]
    },
    {
      "cell_type": "code",
      "metadata": {
        "id": "_8YYPh-phERa",
        "colab_type": "code",
        "colab": {
          "base_uri": "https://localhost:8080/",
          "height": 142
        },
        "outputId": "fe06e8a0-2ba5-46b4-e0b7-58fab534ce88"
      },
      "source": [
        "sales = [('Jones LLC', 150, 200, 50),\n",
        "         ('Alpha Co', 200, 210, 90),\n",
        "         ('Blue Inc', 140, 215, 95)]\n",
        "labels = ['account', 'Jan', 'Feb', 'Mar']\n",
        "df = pd.DataFrame.from_records(sales, columns=labels)\n",
        "df"
      ],
      "execution_count": null,
      "outputs": [
        {
          "output_type": "execute_result",
          "data": {
            "text/html": [
              "<div>\n",
              "<style scoped>\n",
              "    .dataframe tbody tr th:only-of-type {\n",
              "        vertical-align: middle;\n",
              "    }\n",
              "\n",
              "    .dataframe tbody tr th {\n",
              "        vertical-align: top;\n",
              "    }\n",
              "\n",
              "    .dataframe thead th {\n",
              "        text-align: right;\n",
              "    }\n",
              "</style>\n",
              "<table border=\"1\" class=\"dataframe\">\n",
              "  <thead>\n",
              "    <tr style=\"text-align: right;\">\n",
              "      <th></th>\n",
              "      <th>account</th>\n",
              "      <th>Jan</th>\n",
              "      <th>Feb</th>\n",
              "      <th>Mar</th>\n",
              "    </tr>\n",
              "  </thead>\n",
              "  <tbody>\n",
              "    <tr>\n",
              "      <th>0</th>\n",
              "      <td>Jones LLC</td>\n",
              "      <td>150</td>\n",
              "      <td>200</td>\n",
              "      <td>50</td>\n",
              "    </tr>\n",
              "    <tr>\n",
              "      <th>1</th>\n",
              "      <td>Alpha Co</td>\n",
              "      <td>200</td>\n",
              "      <td>210</td>\n",
              "      <td>90</td>\n",
              "    </tr>\n",
              "    <tr>\n",
              "      <th>2</th>\n",
              "      <td>Blue Inc</td>\n",
              "      <td>140</td>\n",
              "      <td>215</td>\n",
              "      <td>95</td>\n",
              "    </tr>\n",
              "  </tbody>\n",
              "</table>\n",
              "</div>"
            ],
            "text/plain": [
              "     account  Jan  Feb  Mar\n",
              "0  Jones LLC  150  200   50\n",
              "1   Alpha Co  200  210   90\n",
              "2   Blue Inc  140  215   95"
            ]
          },
          "metadata": {
            "tags": []
          },
          "execution_count": 18
        }
      ]
    },
    {
      "cell_type": "markdown",
      "metadata": {
        "id": "ArFeGnJSGhlD",
        "colab_type": "text"
      },
      "source": [
        "## From Dictionary"
      ]
    },
    {
      "cell_type": "code",
      "metadata": {
        "id": "JEWBdJtfGkpw",
        "colab_type": "code",
        "colab": {}
      },
      "source": [
        "exam_data = {'name': ['Anastasia', 'Dima', 'Katherine', 'James', 'Emily', 'Michael', 'Matthew', 'Laura', 'Kevin', 'Jonas'],\n",
        "'score': [12.5, 9, 16.5, np.nan, 9, 20, 14.5, np.nan, 8, 19],\n",
        "'attempts': [1, 3, 2, 3, 2, 3, 1, 1, 2, 1],\n",
        "'qualify': ['yes', 'no', 'yes', 'no', 'no', 'yes', 'yes', 'no', 'no', 'yes']}\n",
        "labels = ['a', 'b', 'c', 'd', 'e', 'f', 'g', 'h', 'i', 'j']\n",
        "df_exam_data = pd.DataFrame(exam_data)"
      ],
      "execution_count": null,
      "outputs": []
    },
    {
      "cell_type": "markdown",
      "metadata": {
        "id": "MYYcpWu_FG1j",
        "colab_type": "text"
      },
      "source": [
        "## From multiple Series"
      ]
    },
    {
      "cell_type": "code",
      "metadata": {
        "id": "aKaa7wrZFJrI",
        "colab_type": "code",
        "colab": {
          "base_uri": "https://localhost:8080/",
          "height": 142
        },
        "outputId": "d3e7ceed-5ae8-4616-8caf-85fb1d03190f"
      },
      "source": [
        "s1 = pd.Series(['a', 'b', 'c'])\n",
        "s2 = pd.Series([1,2,3])\n",
        "df = pd.concat([s1, s2], axis=1)\n",
        "df"
      ],
      "execution_count": null,
      "outputs": [
        {
          "output_type": "execute_result",
          "data": {
            "text/html": [
              "<div>\n",
              "<style scoped>\n",
              "    .dataframe tbody tr th:only-of-type {\n",
              "        vertical-align: middle;\n",
              "    }\n",
              "\n",
              "    .dataframe tbody tr th {\n",
              "        vertical-align: top;\n",
              "    }\n",
              "\n",
              "    .dataframe thead th {\n",
              "        text-align: right;\n",
              "    }\n",
              "</style>\n",
              "<table border=\"1\" class=\"dataframe\">\n",
              "  <thead>\n",
              "    <tr style=\"text-align: right;\">\n",
              "      <th></th>\n",
              "      <th>0</th>\n",
              "      <th>1</th>\n",
              "    </tr>\n",
              "  </thead>\n",
              "  <tbody>\n",
              "    <tr>\n",
              "      <th>0</th>\n",
              "      <td>a</td>\n",
              "      <td>1</td>\n",
              "    </tr>\n",
              "    <tr>\n",
              "      <th>1</th>\n",
              "      <td>b</td>\n",
              "      <td>2</td>\n",
              "    </tr>\n",
              "    <tr>\n",
              "      <th>2</th>\n",
              "      <td>c</td>\n",
              "      <td>3</td>\n",
              "    </tr>\n",
              "  </tbody>\n",
              "</table>\n",
              "</div>"
            ],
            "text/plain": [
              "   0  1\n",
              "0  a  1\n",
              "1  b  2\n",
              "2  c  3"
            ]
          },
          "metadata": {
            "tags": []
          },
          "execution_count": 39
        }
      ]
    },
    {
      "cell_type": "markdown",
      "metadata": {
        "id": "bVzdx68aJV67",
        "colab_type": "text"
      },
      "source": [
        "### From numpy ndarray"
      ]
    },
    {
      "cell_type": "code",
      "metadata": {
        "id": "n0DW6fDyJY9s",
        "colab_type": "code",
        "colab": {}
      },
      "source": [
        "values = np.ones(10)\n",
        "df = pd.DataFrame(values)\n",
        "df"
      ],
      "execution_count": null,
      "outputs": []
    },
    {
      "cell_type": "markdown",
      "metadata": {
        "id": "j4s5peAIpGEn",
        "colab_type": "text"
      },
      "source": [
        "## Accessing data in DataFrame"
      ]
    },
    {
      "cell_type": "markdown",
      "metadata": {
        "id": "SeLkFR_zH8tG",
        "colab_type": "text"
      },
      "source": [
        "### by index: iloc"
      ]
    },
    {
      "cell_type": "code",
      "metadata": {
        "id": "KBwbAEL3pJDV",
        "colab_type": "code",
        "colab": {
          "base_uri": "https://localhost:8080/",
          "height": 136
        },
        "outputId": "1b7e091b-e415-43a4-9d7c-622bcb05a92e"
      },
      "source": [
        "import pandas as pd\n",
        "d = {'col1': [1, 2, 3, 4, 7, 11], 'col2': [4, 5, 6, 9, 5, 0], 'col3': [7, 5, 8, 12, 1,11]}\n",
        "df = pd.DataFrame(data=d)\n",
        "s1 = df.iloc[:,0]\n",
        "s1\n"
      ],
      "execution_count": null,
      "outputs": [
        {
          "output_type": "execute_result",
          "data": {
            "text/plain": [
              "0     1\n",
              "1     2\n",
              "2     3\n",
              "3     4\n",
              "4     7\n",
              "5    11\n",
              "Name: col1, dtype: int64"
            ]
          },
          "metadata": {
            "tags": []
          },
          "execution_count": 29
        }
      ]
    },
    {
      "cell_type": "code",
      "metadata": {
        "id": "o0Al7fSvHVFx",
        "colab_type": "code",
        "colab": {
          "base_uri": "https://localhost:8080/",
          "height": 173
        },
        "outputId": "44923092-fc42-4f1f-db8f-a72928be7d95"
      },
      "source": [
        "df_exam_data.iloc[[1, 3, 5, 6], [1, 3]]"
      ],
      "execution_count": null,
      "outputs": [
        {
          "output_type": "execute_result",
          "data": {
            "text/html": [
              "<div>\n",
              "<style scoped>\n",
              "    .dataframe tbody tr th:only-of-type {\n",
              "        vertical-align: middle;\n",
              "    }\n",
              "\n",
              "    .dataframe tbody tr th {\n",
              "        vertical-align: top;\n",
              "    }\n",
              "\n",
              "    .dataframe thead th {\n",
              "        text-align: right;\n",
              "    }\n",
              "</style>\n",
              "<table border=\"1\" class=\"dataframe\">\n",
              "  <thead>\n",
              "    <tr style=\"text-align: right;\">\n",
              "      <th></th>\n",
              "      <th>score</th>\n",
              "      <th>qualify</th>\n",
              "    </tr>\n",
              "  </thead>\n",
              "  <tbody>\n",
              "    <tr>\n",
              "      <th>1</th>\n",
              "      <td>9.0</td>\n",
              "      <td>no</td>\n",
              "    </tr>\n",
              "    <tr>\n",
              "      <th>3</th>\n",
              "      <td>NaN</td>\n",
              "      <td>no</td>\n",
              "    </tr>\n",
              "    <tr>\n",
              "      <th>5</th>\n",
              "      <td>20.0</td>\n",
              "      <td>yes</td>\n",
              "    </tr>\n",
              "    <tr>\n",
              "      <th>6</th>\n",
              "      <td>14.5</td>\n",
              "      <td>yes</td>\n",
              "    </tr>\n",
              "  </tbody>\n",
              "</table>\n",
              "</div>"
            ],
            "text/plain": [
              "   score qualify\n",
              "1    9.0      no\n",
              "3    NaN      no\n",
              "5   20.0     yes\n",
              "6   14.5     yes"
            ]
          },
          "metadata": {
            "tags": []
          },
          "execution_count": 143
        }
      ]
    },
    {
      "cell_type": "markdown",
      "metadata": {
        "id": "ToYPoUB3rWYD",
        "colab_type": "text"
      },
      "source": [
        "### using column name"
      ]
    },
    {
      "cell_type": "code",
      "metadata": {
        "id": "kPrCAHpVrkde",
        "colab_type": "code",
        "colab": {
          "base_uri": "https://localhost:8080/",
          "height": 204
        },
        "outputId": "658e2e68-b3ab-434e-bb2f-85f8686c960b"
      },
      "source": [
        "df_exam_data['attempts']\n",
        "df_exam_data.attempts"
      ],
      "execution_count": null,
      "outputs": [
        {
          "output_type": "execute_result",
          "data": {
            "text/plain": [
              "a    1\n",
              "b    3\n",
              "c    2\n",
              "d    3\n",
              "e    2\n",
              "f    3\n",
              "g    1\n",
              "h    1\n",
              "i    2\n",
              "j    1\n",
              "Name: attempts, dtype: int64"
            ]
          },
          "metadata": {
            "tags": []
          },
          "execution_count": 156
        }
      ]
    },
    {
      "cell_type": "code",
      "metadata": {
        "id": "f20TFEM2rqws",
        "colab_type": "code",
        "colab": {
          "base_uri": "https://localhost:8080/",
          "height": 34
        },
        "outputId": "8149c1e4-0435-41d4-e112-0c3f7954b2cd"
      },
      "source": [
        "# all Series functions are applicable to individual columns because each columns is an object of Series class\n",
        "df_exam_data.attempts.sum()\n",
        "df_exam_data.attempts.mean()\n",
        "df_exam_data.attempts.min()"
      ],
      "execution_count": null,
      "outputs": [
        {
          "output_type": "execute_result",
          "data": {
            "text/plain": [
              "1"
            ]
          },
          "metadata": {
            "tags": []
          },
          "execution_count": 157
        }
      ]
    },
    {
      "cell_type": "markdown",
      "metadata": {
        "id": "TNMuv43BH-is",
        "colab_type": "text"
      },
      "source": [
        "### using logical operators"
      ]
    },
    {
      "cell_type": "code",
      "metadata": {
        "id": "rd85dg5EIHB5",
        "colab_type": "code",
        "colab": {
          "base_uri": "https://localhost:8080/",
          "height": 142
        },
        "outputId": "f0bb009e-4de2-4e19-f77e-963e32484b01"
      },
      "source": [
        "df_exam_data[df_exam_data['attempts'] > 2]\n",
        "df_exam_data[df_exam_data.attempts > 2] # equivalent"
      ],
      "execution_count": null,
      "outputs": [
        {
          "output_type": "execute_result",
          "data": {
            "text/html": [
              "<div>\n",
              "<style scoped>\n",
              "    .dataframe tbody tr th:only-of-type {\n",
              "        vertical-align: middle;\n",
              "    }\n",
              "\n",
              "    .dataframe tbody tr th {\n",
              "        vertical-align: top;\n",
              "    }\n",
              "\n",
              "    .dataframe thead th {\n",
              "        text-align: right;\n",
              "    }\n",
              "</style>\n",
              "<table border=\"1\" class=\"dataframe\">\n",
              "  <thead>\n",
              "    <tr style=\"text-align: right;\">\n",
              "      <th></th>\n",
              "      <th>name</th>\n",
              "      <th>score</th>\n",
              "      <th>attempts</th>\n",
              "      <th>qualify</th>\n",
              "    </tr>\n",
              "  </thead>\n",
              "  <tbody>\n",
              "    <tr>\n",
              "      <th>1</th>\n",
              "      <td>Dima</td>\n",
              "      <td>9.0</td>\n",
              "      <td>3</td>\n",
              "      <td>no</td>\n",
              "    </tr>\n",
              "    <tr>\n",
              "      <th>3</th>\n",
              "      <td>James</td>\n",
              "      <td>NaN</td>\n",
              "      <td>3</td>\n",
              "      <td>no</td>\n",
              "    </tr>\n",
              "    <tr>\n",
              "      <th>5</th>\n",
              "      <td>Michael</td>\n",
              "      <td>20.0</td>\n",
              "      <td>3</td>\n",
              "      <td>yes</td>\n",
              "    </tr>\n",
              "  </tbody>\n",
              "</table>\n",
              "</div>"
            ],
            "text/plain": [
              "      name  score  attempts qualify\n",
              "1     Dima    9.0         3      no\n",
              "3    James    NaN         3      no\n",
              "5  Michael   20.0         3     yes"
            ]
          },
          "metadata": {
            "tags": []
          },
          "execution_count": 146
        }
      ]
    },
    {
      "cell_type": "markdown",
      "metadata": {
        "id": "a954hLmnqXQK",
        "colab_type": "text"
      },
      "source": [
        "## Updating DataFrame values"
      ]
    },
    {
      "cell_type": "markdown",
      "metadata": {
        "id": "_sygk-lbq-53",
        "colab_type": "text"
      },
      "source": [
        "### using loc"
      ]
    },
    {
      "cell_type": "code",
      "metadata": {
        "id": "W9YXfaw0qarS",
        "colab_type": "code",
        "colab": {
          "base_uri": "https://localhost:8080/",
          "height": 391
        },
        "outputId": "eb5e9516-ccb8-4194-dae9-856fc56dbea1"
      },
      "source": [
        "exam_data = {'name': ['Anastasia', 'Dima', 'Katherine', 'James', 'Emily', 'Michael', 'Matthew', 'Laura', 'Kevin', 'Jonas'],\n",
        "'score': [12.5, 9, 16.5, np.nan, 9, 20, 14.5, np.nan, 8, 19],\n",
        "'attempts': [1, 3, 2, 3, 2, 3, 1, 1, 2, 1],\n",
        "'qualify': ['yes', 'no', 'yes', 'no', 'no', 'yes', 'yes', 'no', 'no', 'yes']}\n",
        "labels = ['a', 'b', 'c', 'd', 'e', 'f', 'g', 'h', 'i', 'j']\n",
        "\n",
        "print(df_exam_data)\n",
        "df_exam_data.loc['d', 'score'] = 11.5\n",
        "print(df_exam_data)"
      ],
      "execution_count": null,
      "outputs": [
        {
          "output_type": "stream",
          "text": [
            "        name  score  attempts qualify\n",
            "a  Anastasia   12.5         1     yes\n",
            "b       Dima    9.0         3      no\n",
            "c  Katherine   16.5         2     yes\n",
            "d      James    NaN         3      no\n",
            "e      Emily    9.0         2      no\n",
            "f    Michael   20.0         3     yes\n",
            "g    Matthew   14.5         1     yes\n",
            "h      Laura    NaN         1      no\n",
            "i      Kevin    8.0         2      no\n",
            "j      Jonas   19.0         1     yes\n",
            "        name  score  attempts qualify\n",
            "a  Anastasia   12.5         1     yes\n",
            "b       Dima    9.0         3      no\n",
            "c  Katherine   16.5         2     yes\n",
            "d      James   11.5         3      no\n",
            "e      Emily    9.0         2      no\n",
            "f    Michael   20.0         3     yes\n",
            "g    Matthew   14.5         1     yes\n",
            "h      Laura    NaN         1      no\n",
            "i      Kevin    8.0         2      no\n",
            "j      Jonas   19.0         1     yes\n"
          ],
          "name": "stdout"
        }
      ]
    },
    {
      "cell_type": "markdown",
      "metadata": {
        "id": "EDnZRDyKs4sG",
        "colab_type": "text"
      },
      "source": [
        "### using column name"
      ]
    },
    {
      "cell_type": "code",
      "metadata": {
        "id": "-8UZMglNs7N_",
        "colab_type": "code",
        "colab": {}
      },
      "source": [
        "df_exam_data['name'] = df_exam_data['name'].replace('James', 'Suresh')"
      ],
      "execution_count": null,
      "outputs": []
    },
    {
      "cell_type": "markdown",
      "metadata": {
        "id": "lRs8o1fAtRgr",
        "colab_type": "text"
      },
      "source": [
        "## Updating DataFrame Columns"
      ]
    },
    {
      "cell_type": "markdown",
      "metadata": {
        "id": "rPuZjiKrtlbu",
        "colab_type": "text"
      },
      "source": [
        "- remove"
      ]
    },
    {
      "cell_type": "code",
      "metadata": {
        "id": "sxRsDfyctWbs",
        "colab_type": "code",
        "colab": {}
      },
      "source": [
        "df_exam_data.pop('attempts')\n",
        "df_exam_data"
      ],
      "execution_count": null,
      "outputs": []
    },
    {
      "cell_type": "markdown",
      "metadata": {
        "id": "z4xZpd_AtnvD",
        "colab_type": "text"
      },
      "source": [
        "- add a column"
      ]
    },
    {
      "cell_type": "code",
      "metadata": {
        "id": "f35Dr6kJto4z",
        "colab_type": "code",
        "colab": {
          "base_uri": "https://localhost:8080/",
          "height": 359
        },
        "outputId": "8160b412-f537-456c-fd3e-19a28b515994"
      },
      "source": [
        "color = ['Red','Blue','Orange','Red','White','White','Blue','Green','Green','Red']\n",
        "df_exam_data['color'] = color\n",
        "df_exam_data"
      ],
      "execution_count": null,
      "outputs": [
        {
          "output_type": "execute_result",
          "data": {
            "text/html": [
              "<div>\n",
              "<style scoped>\n",
              "    .dataframe tbody tr th:only-of-type {\n",
              "        vertical-align: middle;\n",
              "    }\n",
              "\n",
              "    .dataframe tbody tr th {\n",
              "        vertical-align: top;\n",
              "    }\n",
              "\n",
              "    .dataframe thead th {\n",
              "        text-align: right;\n",
              "    }\n",
              "</style>\n",
              "<table border=\"1\" class=\"dataframe\">\n",
              "  <thead>\n",
              "    <tr style=\"text-align: right;\">\n",
              "      <th></th>\n",
              "      <th>name</th>\n",
              "      <th>score</th>\n",
              "      <th>qualify</th>\n",
              "      <th>color</th>\n",
              "    </tr>\n",
              "  </thead>\n",
              "  <tbody>\n",
              "    <tr>\n",
              "      <th>a</th>\n",
              "      <td>Anastasia</td>\n",
              "      <td>12.5</td>\n",
              "      <td>yes</td>\n",
              "      <td>Red</td>\n",
              "    </tr>\n",
              "    <tr>\n",
              "      <th>b</th>\n",
              "      <td>Dima</td>\n",
              "      <td>9.0</td>\n",
              "      <td>no</td>\n",
              "      <td>Blue</td>\n",
              "    </tr>\n",
              "    <tr>\n",
              "      <th>c</th>\n",
              "      <td>Katherine</td>\n",
              "      <td>16.5</td>\n",
              "      <td>yes</td>\n",
              "      <td>Orange</td>\n",
              "    </tr>\n",
              "    <tr>\n",
              "      <th>d</th>\n",
              "      <td>James</td>\n",
              "      <td>11.5</td>\n",
              "      <td>no</td>\n",
              "      <td>Red</td>\n",
              "    </tr>\n",
              "    <tr>\n",
              "      <th>e</th>\n",
              "      <td>Emily</td>\n",
              "      <td>9.0</td>\n",
              "      <td>no</td>\n",
              "      <td>White</td>\n",
              "    </tr>\n",
              "    <tr>\n",
              "      <th>f</th>\n",
              "      <td>Michael</td>\n",
              "      <td>20.0</td>\n",
              "      <td>yes</td>\n",
              "      <td>White</td>\n",
              "    </tr>\n",
              "    <tr>\n",
              "      <th>g</th>\n",
              "      <td>Matthew</td>\n",
              "      <td>14.5</td>\n",
              "      <td>yes</td>\n",
              "      <td>Blue</td>\n",
              "    </tr>\n",
              "    <tr>\n",
              "      <th>h</th>\n",
              "      <td>Laura</td>\n",
              "      <td>NaN</td>\n",
              "      <td>no</td>\n",
              "      <td>Green</td>\n",
              "    </tr>\n",
              "    <tr>\n",
              "      <th>i</th>\n",
              "      <td>Kevin</td>\n",
              "      <td>8.0</td>\n",
              "      <td>no</td>\n",
              "      <td>Green</td>\n",
              "    </tr>\n",
              "    <tr>\n",
              "      <th>j</th>\n",
              "      <td>Jonas</td>\n",
              "      <td>19.0</td>\n",
              "      <td>yes</td>\n",
              "      <td>Red</td>\n",
              "    </tr>\n",
              "  </tbody>\n",
              "</table>\n",
              "</div>"
            ],
            "text/plain": [
              "        name  score qualify   color\n",
              "a  Anastasia   12.5     yes     Red\n",
              "b       Dima    9.0      no    Blue\n",
              "c  Katherine   16.5     yes  Orange\n",
              "d      James   11.5      no     Red\n",
              "e      Emily    9.0      no   White\n",
              "f    Michael   20.0     yes   White\n",
              "g    Matthew   14.5     yes    Blue\n",
              "h      Laura    NaN      no   Green\n",
              "i      Kevin    8.0      no   Green\n",
              "j      Jonas   19.0     yes     Red"
            ]
          },
          "metadata": {
            "tags": []
          },
          "execution_count": 160
        }
      ]
    },
    {
      "cell_type": "markdown",
      "metadata": {
        "id": "VwndbAidGcpt",
        "colab_type": "text"
      },
      "source": [
        "- add a column using concat"
      ]
    },
    {
      "cell_type": "code",
      "metadata": {
        "id": "wotC6ovQGejA",
        "colab_type": "code",
        "colab": {
          "base_uri": "https://localhost:8080/",
          "height": 142
        },
        "outputId": "9033321e-b661-46db-e18d-8061db19faee"
      },
      "source": [
        "df = pd.DataFrame({'c1':['a', 'b', 'c']})\n",
        "s2 = pd.Series([1,2,3], name='c2')\n",
        "pd.concat([df, s2], axis=1)"
      ],
      "execution_count": null,
      "outputs": [
        {
          "output_type": "execute_result",
          "data": {
            "text/html": [
              "<div>\n",
              "<style scoped>\n",
              "    .dataframe tbody tr th:only-of-type {\n",
              "        vertical-align: middle;\n",
              "    }\n",
              "\n",
              "    .dataframe tbody tr th {\n",
              "        vertical-align: top;\n",
              "    }\n",
              "\n",
              "    .dataframe thead th {\n",
              "        text-align: right;\n",
              "    }\n",
              "</style>\n",
              "<table border=\"1\" class=\"dataframe\">\n",
              "  <thead>\n",
              "    <tr style=\"text-align: right;\">\n",
              "      <th></th>\n",
              "      <th>c1</th>\n",
              "      <th>c2</th>\n",
              "    </tr>\n",
              "  </thead>\n",
              "  <tbody>\n",
              "    <tr>\n",
              "      <th>0</th>\n",
              "      <td>a</td>\n",
              "      <td>1</td>\n",
              "    </tr>\n",
              "    <tr>\n",
              "      <th>1</th>\n",
              "      <td>b</td>\n",
              "      <td>2</td>\n",
              "    </tr>\n",
              "    <tr>\n",
              "      <th>2</th>\n",
              "      <td>c</td>\n",
              "      <td>3</td>\n",
              "    </tr>\n",
              "  </tbody>\n",
              "</table>\n",
              "</div>"
            ],
            "text/plain": [
              "  c1  c2\n",
              "0  a   1\n",
              "1  b   2\n",
              "2  c   3"
            ]
          },
          "metadata": {
            "tags": []
          },
          "execution_count": 45
        }
      ]
    },
    {
      "cell_type": "markdown",
      "metadata": {
        "id": "KpSskndQIPkW",
        "colab_type": "text"
      },
      "source": [
        "- Change column name"
      ]
    },
    {
      "cell_type": "code",
      "metadata": {
        "id": "iM2iyzdEISUd",
        "colab_type": "code",
        "colab": {
          "base_uri": "https://localhost:8080/",
          "height": 153
        },
        "outputId": "6f330eed-c194-4157-f81c-fde55e99c708"
      },
      "source": [
        "df = pd.DataFrame({'c1':['a', 'b', 'c']})\n",
        "print(df)\n",
        "# df=df.rename(columns={'c1':'c1_new_name'}, inplace=False)\n",
        "df.rename(columns={'c1':'c1_new_name'}, inplace=True)\n",
        "print(df)"
      ],
      "execution_count": null,
      "outputs": [
        {
          "output_type": "stream",
          "text": [
            "  c1\n",
            "0  a\n",
            "1  b\n",
            "2  c\n",
            "  c1_new_name\n",
            "0           a\n",
            "1           b\n",
            "2           c\n"
          ],
          "name": "stdout"
        }
      ]
    },
    {
      "cell_type": "markdown",
      "metadata": {
        "id": "jj0nNZbEu2TM",
        "colab_type": "text"
      },
      "source": [
        "## Updating DataFrame Rows"
      ]
    },
    {
      "cell_type": "markdown",
      "metadata": {
        "id": "IokH0XWIw1jY",
        "colab_type": "text"
      },
      "source": [
        "- add rows append()"
      ]
    },
    {
      "cell_type": "code",
      "metadata": {
        "id": "2vCD52Cgu6Y4",
        "colab_type": "code",
        "colab": {
          "base_uri": "https://localhost:8080/",
          "height": 390
        },
        "outputId": "ebce9e4f-b799-42b3-8e25-ea18ddde874f"
      },
      "source": [
        "df2 = {'name': 'Adam', 'score': 11, 'qualify': 'no'}\n",
        "df = df_exam_data.append(df2, ignore_index=True) # Can only append a Series if ignore_index=True or if the Series has a name\n",
        "df"
      ],
      "execution_count": null,
      "outputs": [
        {
          "output_type": "execute_result",
          "data": {
            "text/html": [
              "<div>\n",
              "<style scoped>\n",
              "    .dataframe tbody tr th:only-of-type {\n",
              "        vertical-align: middle;\n",
              "    }\n",
              "\n",
              "    .dataframe tbody tr th {\n",
              "        vertical-align: top;\n",
              "    }\n",
              "\n",
              "    .dataframe thead th {\n",
              "        text-align: right;\n",
              "    }\n",
              "</style>\n",
              "<table border=\"1\" class=\"dataframe\">\n",
              "  <thead>\n",
              "    <tr style=\"text-align: right;\">\n",
              "      <th></th>\n",
              "      <th>name</th>\n",
              "      <th>score</th>\n",
              "      <th>qualify</th>\n",
              "      <th>color</th>\n",
              "    </tr>\n",
              "  </thead>\n",
              "  <tbody>\n",
              "    <tr>\n",
              "      <th>0</th>\n",
              "      <td>Anastasia</td>\n",
              "      <td>12.5</td>\n",
              "      <td>yes</td>\n",
              "      <td>Red</td>\n",
              "    </tr>\n",
              "    <tr>\n",
              "      <th>1</th>\n",
              "      <td>Dima</td>\n",
              "      <td>9.0</td>\n",
              "      <td>no</td>\n",
              "      <td>Blue</td>\n",
              "    </tr>\n",
              "    <tr>\n",
              "      <th>2</th>\n",
              "      <td>Katherine</td>\n",
              "      <td>16.5</td>\n",
              "      <td>yes</td>\n",
              "      <td>Orange</td>\n",
              "    </tr>\n",
              "    <tr>\n",
              "      <th>3</th>\n",
              "      <td>James</td>\n",
              "      <td>11.5</td>\n",
              "      <td>no</td>\n",
              "      <td>Red</td>\n",
              "    </tr>\n",
              "    <tr>\n",
              "      <th>4</th>\n",
              "      <td>Emily</td>\n",
              "      <td>9.0</td>\n",
              "      <td>no</td>\n",
              "      <td>White</td>\n",
              "    </tr>\n",
              "    <tr>\n",
              "      <th>5</th>\n",
              "      <td>Michael</td>\n",
              "      <td>20.0</td>\n",
              "      <td>yes</td>\n",
              "      <td>White</td>\n",
              "    </tr>\n",
              "    <tr>\n",
              "      <th>6</th>\n",
              "      <td>Matthew</td>\n",
              "      <td>14.5</td>\n",
              "      <td>yes</td>\n",
              "      <td>Blue</td>\n",
              "    </tr>\n",
              "    <tr>\n",
              "      <th>7</th>\n",
              "      <td>Laura</td>\n",
              "      <td>NaN</td>\n",
              "      <td>no</td>\n",
              "      <td>Green</td>\n",
              "    </tr>\n",
              "    <tr>\n",
              "      <th>8</th>\n",
              "      <td>Kevin</td>\n",
              "      <td>8.0</td>\n",
              "      <td>no</td>\n",
              "      <td>Green</td>\n",
              "    </tr>\n",
              "    <tr>\n",
              "      <th>9</th>\n",
              "      <td>Jonas</td>\n",
              "      <td>19.0</td>\n",
              "      <td>yes</td>\n",
              "      <td>Red</td>\n",
              "    </tr>\n",
              "    <tr>\n",
              "      <th>10</th>\n",
              "      <td>Adam</td>\n",
              "      <td>11.0</td>\n",
              "      <td>no</td>\n",
              "      <td>NaN</td>\n",
              "    </tr>\n",
              "  </tbody>\n",
              "</table>\n",
              "</div>"
            ],
            "text/plain": [
              "         name  score qualify   color\n",
              "0   Anastasia   12.5     yes     Red\n",
              "1        Dima    9.0      no    Blue\n",
              "2   Katherine   16.5     yes  Orange\n",
              "3       James   11.5      no     Red\n",
              "4       Emily    9.0      no   White\n",
              "5     Michael   20.0     yes   White\n",
              "6     Matthew   14.5     yes    Blue\n",
              "7       Laura    NaN      no   Green\n",
              "8       Kevin    8.0      no   Green\n",
              "9       Jonas   19.0     yes     Red\n",
              "10       Adam   11.0      no     NaN"
            ]
          },
          "metadata": {
            "tags": []
          },
          "execution_count": 177
        }
      ]
    },
    {
      "cell_type": "markdown",
      "metadata": {
        "id": "a4FdNJ7tw57e",
        "colab_type": "text"
      },
      "source": [
        "- remove rows using drop()"
      ]
    },
    {
      "cell_type": "code",
      "metadata": {
        "id": "Xo_T1RFNw8_u",
        "colab_type": "code",
        "colab": {
          "base_uri": "https://localhost:8080/",
          "height": 359
        },
        "outputId": "64e946b2-7f1b-4f91-b2a6-5c13ac3b9f01"
      },
      "source": [
        "df_ = df.drop(df.index[10])\n",
        "df_"
      ],
      "execution_count": null,
      "outputs": [
        {
          "output_type": "execute_result",
          "data": {
            "text/html": [
              "<div>\n",
              "<style scoped>\n",
              "    .dataframe tbody tr th:only-of-type {\n",
              "        vertical-align: middle;\n",
              "    }\n",
              "\n",
              "    .dataframe tbody tr th {\n",
              "        vertical-align: top;\n",
              "    }\n",
              "\n",
              "    .dataframe thead th {\n",
              "        text-align: right;\n",
              "    }\n",
              "</style>\n",
              "<table border=\"1\" class=\"dataframe\">\n",
              "  <thead>\n",
              "    <tr style=\"text-align: right;\">\n",
              "      <th></th>\n",
              "      <th>name</th>\n",
              "      <th>score</th>\n",
              "      <th>qualify</th>\n",
              "      <th>color</th>\n",
              "    </tr>\n",
              "  </thead>\n",
              "  <tbody>\n",
              "    <tr>\n",
              "      <th>0</th>\n",
              "      <td>Anastasia</td>\n",
              "      <td>12.5</td>\n",
              "      <td>yes</td>\n",
              "      <td>Red</td>\n",
              "    </tr>\n",
              "    <tr>\n",
              "      <th>1</th>\n",
              "      <td>Dima</td>\n",
              "      <td>9.0</td>\n",
              "      <td>no</td>\n",
              "      <td>Blue</td>\n",
              "    </tr>\n",
              "    <tr>\n",
              "      <th>2</th>\n",
              "      <td>Katherine</td>\n",
              "      <td>16.5</td>\n",
              "      <td>yes</td>\n",
              "      <td>Orange</td>\n",
              "    </tr>\n",
              "    <tr>\n",
              "      <th>3</th>\n",
              "      <td>James</td>\n",
              "      <td>11.5</td>\n",
              "      <td>no</td>\n",
              "      <td>Red</td>\n",
              "    </tr>\n",
              "    <tr>\n",
              "      <th>4</th>\n",
              "      <td>Emily</td>\n",
              "      <td>9.0</td>\n",
              "      <td>no</td>\n",
              "      <td>White</td>\n",
              "    </tr>\n",
              "    <tr>\n",
              "      <th>5</th>\n",
              "      <td>Michael</td>\n",
              "      <td>20.0</td>\n",
              "      <td>yes</td>\n",
              "      <td>White</td>\n",
              "    </tr>\n",
              "    <tr>\n",
              "      <th>6</th>\n",
              "      <td>Matthew</td>\n",
              "      <td>14.5</td>\n",
              "      <td>yes</td>\n",
              "      <td>Blue</td>\n",
              "    </tr>\n",
              "    <tr>\n",
              "      <th>7</th>\n",
              "      <td>Laura</td>\n",
              "      <td>NaN</td>\n",
              "      <td>no</td>\n",
              "      <td>Green</td>\n",
              "    </tr>\n",
              "    <tr>\n",
              "      <th>8</th>\n",
              "      <td>Kevin</td>\n",
              "      <td>8.0</td>\n",
              "      <td>no</td>\n",
              "      <td>Green</td>\n",
              "    </tr>\n",
              "    <tr>\n",
              "      <th>9</th>\n",
              "      <td>Jonas</td>\n",
              "      <td>19.0</td>\n",
              "      <td>yes</td>\n",
              "      <td>Red</td>\n",
              "    </tr>\n",
              "  </tbody>\n",
              "</table>\n",
              "</div>"
            ],
            "text/plain": [
              "        name  score qualify   color\n",
              "0  Anastasia   12.5     yes     Red\n",
              "1       Dima    9.0      no    Blue\n",
              "2  Katherine   16.5     yes  Orange\n",
              "3      James   11.5      no     Red\n",
              "4      Emily    9.0      no   White\n",
              "5    Michael   20.0     yes   White\n",
              "6    Matthew   14.5     yes    Blue\n",
              "7      Laura    NaN      no   Green\n",
              "8      Kevin    8.0      no   Green\n",
              "9      Jonas   19.0     yes     Red"
            ]
          },
          "metadata": {
            "tags": []
          },
          "execution_count": 178
        }
      ]
    },
    {
      "cell_type": "code",
      "metadata": {
        "id": "4M7cRQ0OBomv",
        "colab_type": "code",
        "colab": {
          "base_uri": "https://localhost:8080/",
          "height": 68
        },
        "outputId": "29ab990b-4327-48f7-e6a4-a7aaade29559"
      },
      "source": [
        "sales = {'account': ['Jones LLC', 'Alpha Co', 'Blue Inc'],\n",
        "         'Jan': [150, 200, 50],\n",
        "         'Feb': [200, 210, 90],\n",
        "         'Mar': [140, 215, 95]}\n",
        "df_sales = pd.DataFrame.from_dict(sales)\n",
        "df_sales = df_sales.drop(df_sales.index[0])\n",
        "print(df_sales)"
      ],
      "execution_count": null,
      "outputs": [
        {
          "output_type": "stream",
          "text": [
            "    account  Jan  Feb  Mar\n",
            "1  Alpha Co  200  210  215\n",
            "2  Blue Inc   50   90   95\n"
          ],
          "name": "stdout"
        }
      ]
    },
    {
      "cell_type": "code",
      "metadata": {
        "id": "yg_QaGkUBvQN",
        "colab_type": "code",
        "colab": {
          "base_uri": "https://localhost:8080/",
          "height": 111
        },
        "outputId": "04e8efeb-3b7a-4070-de0c-04f7d67f700a"
      },
      "source": [
        "df_sales.reset_index()"
      ],
      "execution_count": null,
      "outputs": [
        {
          "output_type": "execute_result",
          "data": {
            "text/html": [
              "<div>\n",
              "<style scoped>\n",
              "    .dataframe tbody tr th:only-of-type {\n",
              "        vertical-align: middle;\n",
              "    }\n",
              "\n",
              "    .dataframe tbody tr th {\n",
              "        vertical-align: top;\n",
              "    }\n",
              "\n",
              "    .dataframe thead th {\n",
              "        text-align: right;\n",
              "    }\n",
              "</style>\n",
              "<table border=\"1\" class=\"dataframe\">\n",
              "  <thead>\n",
              "    <tr style=\"text-align: right;\">\n",
              "      <th></th>\n",
              "      <th>index</th>\n",
              "      <th>account</th>\n",
              "      <th>Jan</th>\n",
              "      <th>Feb</th>\n",
              "      <th>Mar</th>\n",
              "    </tr>\n",
              "  </thead>\n",
              "  <tbody>\n",
              "    <tr>\n",
              "      <th>0</th>\n",
              "      <td>1</td>\n",
              "      <td>Alpha Co</td>\n",
              "      <td>200</td>\n",
              "      <td>210</td>\n",
              "      <td>215</td>\n",
              "    </tr>\n",
              "    <tr>\n",
              "      <th>1</th>\n",
              "      <td>2</td>\n",
              "      <td>Blue Inc</td>\n",
              "      <td>50</td>\n",
              "      <td>90</td>\n",
              "      <td>95</td>\n",
              "    </tr>\n",
              "  </tbody>\n",
              "</table>\n",
              "</div>"
            ],
            "text/plain": [
              "   index   account  Jan  Feb  Mar\n",
              "0      1  Alpha Co  200  210  215\n",
              "1      2  Blue Inc   50   90   95"
            ]
          },
          "metadata": {
            "tags": []
          },
          "execution_count": 13
        }
      ]
    },
    {
      "cell_type": "markdown",
      "metadata": {
        "id": "NH8G6TRIxlHD",
        "colab_type": "text"
      },
      "source": [
        "- remove rows using logical conditions"
      ]
    },
    {
      "cell_type": "code",
      "metadata": {
        "id": "ui_wu6msxpO-",
        "colab_type": "code",
        "colab": {
          "base_uri": "https://localhost:8080/",
          "height": 359
        },
        "outputId": "f95c5b8b-e05c-4f14-e008-a5b5e9233f3b"
      },
      "source": [
        "df_ = df[df.name != 'Adam']\n",
        "df_"
      ],
      "execution_count": null,
      "outputs": [
        {
          "output_type": "execute_result",
          "data": {
            "text/html": [
              "<div>\n",
              "<style scoped>\n",
              "    .dataframe tbody tr th:only-of-type {\n",
              "        vertical-align: middle;\n",
              "    }\n",
              "\n",
              "    .dataframe tbody tr th {\n",
              "        vertical-align: top;\n",
              "    }\n",
              "\n",
              "    .dataframe thead th {\n",
              "        text-align: right;\n",
              "    }\n",
              "</style>\n",
              "<table border=\"1\" class=\"dataframe\">\n",
              "  <thead>\n",
              "    <tr style=\"text-align: right;\">\n",
              "      <th></th>\n",
              "      <th>name</th>\n",
              "      <th>score</th>\n",
              "      <th>qualify</th>\n",
              "      <th>color</th>\n",
              "    </tr>\n",
              "  </thead>\n",
              "  <tbody>\n",
              "    <tr>\n",
              "      <th>0</th>\n",
              "      <td>Anastasia</td>\n",
              "      <td>12.5</td>\n",
              "      <td>yes</td>\n",
              "      <td>Red</td>\n",
              "    </tr>\n",
              "    <tr>\n",
              "      <th>1</th>\n",
              "      <td>Dima</td>\n",
              "      <td>9.0</td>\n",
              "      <td>no</td>\n",
              "      <td>Blue</td>\n",
              "    </tr>\n",
              "    <tr>\n",
              "      <th>2</th>\n",
              "      <td>Katherine</td>\n",
              "      <td>16.5</td>\n",
              "      <td>yes</td>\n",
              "      <td>Orange</td>\n",
              "    </tr>\n",
              "    <tr>\n",
              "      <th>3</th>\n",
              "      <td>James</td>\n",
              "      <td>11.5</td>\n",
              "      <td>no</td>\n",
              "      <td>Red</td>\n",
              "    </tr>\n",
              "    <tr>\n",
              "      <th>4</th>\n",
              "      <td>Emily</td>\n",
              "      <td>9.0</td>\n",
              "      <td>no</td>\n",
              "      <td>White</td>\n",
              "    </tr>\n",
              "    <tr>\n",
              "      <th>5</th>\n",
              "      <td>Michael</td>\n",
              "      <td>20.0</td>\n",
              "      <td>yes</td>\n",
              "      <td>White</td>\n",
              "    </tr>\n",
              "    <tr>\n",
              "      <th>6</th>\n",
              "      <td>Matthew</td>\n",
              "      <td>14.5</td>\n",
              "      <td>yes</td>\n",
              "      <td>Blue</td>\n",
              "    </tr>\n",
              "    <tr>\n",
              "      <th>7</th>\n",
              "      <td>Laura</td>\n",
              "      <td>NaN</td>\n",
              "      <td>no</td>\n",
              "      <td>Green</td>\n",
              "    </tr>\n",
              "    <tr>\n",
              "      <th>8</th>\n",
              "      <td>Kevin</td>\n",
              "      <td>8.0</td>\n",
              "      <td>no</td>\n",
              "      <td>Green</td>\n",
              "    </tr>\n",
              "    <tr>\n",
              "      <th>9</th>\n",
              "      <td>Jonas</td>\n",
              "      <td>19.0</td>\n",
              "      <td>yes</td>\n",
              "      <td>Red</td>\n",
              "    </tr>\n",
              "  </tbody>\n",
              "</table>\n",
              "</div>"
            ],
            "text/plain": [
              "        name  score qualify   color\n",
              "0  Anastasia   12.5     yes     Red\n",
              "1       Dima    9.0      no    Blue\n",
              "2  Katherine   16.5     yes  Orange\n",
              "3      James   11.5      no     Red\n",
              "4      Emily    9.0      no   White\n",
              "5    Michael   20.0     yes   White\n",
              "6    Matthew   14.5     yes    Blue\n",
              "7      Laura    NaN      no   Green\n",
              "8      Kevin    8.0      no   Green\n",
              "9      Jonas   19.0     yes     Red"
            ]
          },
          "metadata": {
            "tags": []
          },
          "execution_count": 180
        }
      ]
    },
    {
      "cell_type": "markdown",
      "metadata": {
        "id": "bDpbLBtsTabS",
        "colab_type": "text"
      },
      "source": [
        "## Useful views, properties and functions "
      ]
    },
    {
      "cell_type": "markdown",
      "metadata": {
        "id": "zRvefYtcLm8N",
        "colab_type": "text"
      },
      "source": [
        "### head()"
      ]
    },
    {
      "cell_type": "code",
      "metadata": {
        "id": "TTqU1dwlL3Ds",
        "colab_type": "code",
        "colab": {
          "base_uri": "https://localhost:8080/",
          "height": 142
        },
        "outputId": "51fae894-10d1-41a5-da7c-c0dbfa0e5b7f"
      },
      "source": [
        "exam_data = {'name': ['Anastasia', 'Dima', 'Katherine', 'James', 'Emily', 'Michael', 'Matthew', 'Laura', 'Kevin', 'Jonas'],\n",
        "'score': [12.5, 9, 16.5, np.nan, 9, 20, 14.5, np.nan, 8, 19],\n",
        "'attempts': [1, 3, 2, 3, 2, 3, 1, 1, 2, 1],\n",
        "'qualify': ['yes', 'no', 'yes', 'no', 'no', 'yes', 'yes', 'no', 'no', 'yes']}\n",
        "labels = ['a', 'b', 'c', 'd', 'e', 'f', 'g', 'h', 'i', 'j']\n",
        "df_exam_data = pd.DataFrame(exam_data, index=labels)\n",
        "df_exam_data.head(3)"
      ],
      "execution_count": null,
      "outputs": [
        {
          "output_type": "execute_result",
          "data": {
            "text/html": [
              "<div>\n",
              "<style scoped>\n",
              "    .dataframe tbody tr th:only-of-type {\n",
              "        vertical-align: middle;\n",
              "    }\n",
              "\n",
              "    .dataframe tbody tr th {\n",
              "        vertical-align: top;\n",
              "    }\n",
              "\n",
              "    .dataframe thead th {\n",
              "        text-align: right;\n",
              "    }\n",
              "</style>\n",
              "<table border=\"1\" class=\"dataframe\">\n",
              "  <thead>\n",
              "    <tr style=\"text-align: right;\">\n",
              "      <th></th>\n",
              "      <th>name</th>\n",
              "      <th>score</th>\n",
              "      <th>attempts</th>\n",
              "      <th>qualify</th>\n",
              "    </tr>\n",
              "  </thead>\n",
              "  <tbody>\n",
              "    <tr>\n",
              "      <th>a</th>\n",
              "      <td>Anastasia</td>\n",
              "      <td>12.5</td>\n",
              "      <td>1</td>\n",
              "      <td>yes</td>\n",
              "    </tr>\n",
              "    <tr>\n",
              "      <th>b</th>\n",
              "      <td>Dima</td>\n",
              "      <td>9.0</td>\n",
              "      <td>3</td>\n",
              "      <td>no</td>\n",
              "    </tr>\n",
              "    <tr>\n",
              "      <th>c</th>\n",
              "      <td>Katherine</td>\n",
              "      <td>16.5</td>\n",
              "      <td>2</td>\n",
              "      <td>yes</td>\n",
              "    </tr>\n",
              "  </tbody>\n",
              "</table>\n",
              "</div>"
            ],
            "text/plain": [
              "        name  score  attempts qualify\n",
              "a  Anastasia   12.5         1     yes\n",
              "b       Dima    9.0         3      no\n",
              "c  Katherine   16.5         2     yes"
            ]
          },
          "metadata": {
            "tags": []
          },
          "execution_count": 68
        }
      ]
    },
    {
      "cell_type": "markdown",
      "metadata": {
        "id": "UnZIH1FmLqX8",
        "colab_type": "text"
      },
      "source": [
        "### describe()"
      ]
    },
    {
      "cell_type": "code",
      "metadata": {
        "id": "XqAMhoT_Lu3B",
        "colab_type": "code",
        "colab": {
          "base_uri": "https://localhost:8080/",
          "height": 297
        },
        "outputId": "e7862e76-4889-4221-c6df-dc19910cb61f"
      },
      "source": [
        "exam_data = {'name': ['Anastasia', 'Dima', 'Katherine', 'James', 'Emily', 'Michael', 'Matthew', 'Laura', 'Kevin', 'Jonas'],\n",
        "'score': [12.5, 9, 16.5, np.nan, 9, 20, 14.5, np.nan, 8, 19],\n",
        "'attempts': [1, 3, 2, 3, 2, 3, 1, 1, 2, 1],\n",
        "'qualify': ['yes', 'no', 'yes', 'no', 'no', 'yes', 'yes', 'no', 'no', 'yes']}\n",
        "labels = ['a', 'b', 'c', 'd', 'e', 'f', 'g', 'h', 'i', 'j']\n",
        "df_exam_data = pd.DataFrame(exam_data, index=labels)\n",
        "df_exam_data.describe()"
      ],
      "execution_count": null,
      "outputs": [
        {
          "output_type": "execute_result",
          "data": {
            "text/html": [
              "<div>\n",
              "<style scoped>\n",
              "    .dataframe tbody tr th:only-of-type {\n",
              "        vertical-align: middle;\n",
              "    }\n",
              "\n",
              "    .dataframe tbody tr th {\n",
              "        vertical-align: top;\n",
              "    }\n",
              "\n",
              "    .dataframe thead th {\n",
              "        text-align: right;\n",
              "    }\n",
              "</style>\n",
              "<table border=\"1\" class=\"dataframe\">\n",
              "  <thead>\n",
              "    <tr style=\"text-align: right;\">\n",
              "      <th></th>\n",
              "      <th>score</th>\n",
              "      <th>attempts</th>\n",
              "    </tr>\n",
              "  </thead>\n",
              "  <tbody>\n",
              "    <tr>\n",
              "      <th>count</th>\n",
              "      <td>8.000000</td>\n",
              "      <td>10.000000</td>\n",
              "    </tr>\n",
              "    <tr>\n",
              "      <th>mean</th>\n",
              "      <td>13.562500</td>\n",
              "      <td>1.900000</td>\n",
              "    </tr>\n",
              "    <tr>\n",
              "      <th>std</th>\n",
              "      <td>4.693746</td>\n",
              "      <td>0.875595</td>\n",
              "    </tr>\n",
              "    <tr>\n",
              "      <th>min</th>\n",
              "      <td>8.000000</td>\n",
              "      <td>1.000000</td>\n",
              "    </tr>\n",
              "    <tr>\n",
              "      <th>25%</th>\n",
              "      <td>9.000000</td>\n",
              "      <td>1.000000</td>\n",
              "    </tr>\n",
              "    <tr>\n",
              "      <th>50%</th>\n",
              "      <td>13.500000</td>\n",
              "      <td>2.000000</td>\n",
              "    </tr>\n",
              "    <tr>\n",
              "      <th>75%</th>\n",
              "      <td>17.125000</td>\n",
              "      <td>2.750000</td>\n",
              "    </tr>\n",
              "    <tr>\n",
              "      <th>max</th>\n",
              "      <td>20.000000</td>\n",
              "      <td>3.000000</td>\n",
              "    </tr>\n",
              "  </tbody>\n",
              "</table>\n",
              "</div>"
            ],
            "text/plain": [
              "           score   attempts\n",
              "count   8.000000  10.000000\n",
              "mean   13.562500   1.900000\n",
              "std     4.693746   0.875595\n",
              "min     8.000000   1.000000\n",
              "25%     9.000000   1.000000\n",
              "50%    13.500000   2.000000\n",
              "75%    17.125000   2.750000\n",
              "max    20.000000   3.000000"
            ]
          },
          "metadata": {
            "tags": []
          },
          "execution_count": 66
        }
      ]
    },
    {
      "cell_type": "markdown",
      "metadata": {
        "id": "OvNXnC1bMMx9",
        "colab_type": "text"
      },
      "source": [
        "### nlargest()"
      ]
    },
    {
      "cell_type": "code",
      "metadata": {
        "id": "IaxNNthFMOos",
        "colab_type": "code",
        "colab": {
          "base_uri": "https://localhost:8080/",
          "height": 142
        },
        "outputId": "d6388aa7-c521-4087-8de4-534a92db7c9f"
      },
      "source": [
        "df_exam_data.nlargest(3, 'score')"
      ],
      "execution_count": null,
      "outputs": [
        {
          "output_type": "execute_result",
          "data": {
            "text/html": [
              "<div>\n",
              "<style scoped>\n",
              "    .dataframe tbody tr th:only-of-type {\n",
              "        vertical-align: middle;\n",
              "    }\n",
              "\n",
              "    .dataframe tbody tr th {\n",
              "        vertical-align: top;\n",
              "    }\n",
              "\n",
              "    .dataframe thead th {\n",
              "        text-align: right;\n",
              "    }\n",
              "</style>\n",
              "<table border=\"1\" class=\"dataframe\">\n",
              "  <thead>\n",
              "    <tr style=\"text-align: right;\">\n",
              "      <th></th>\n",
              "      <th>name</th>\n",
              "      <th>score</th>\n",
              "      <th>attempts</th>\n",
              "      <th>qualify</th>\n",
              "    </tr>\n",
              "  </thead>\n",
              "  <tbody>\n",
              "    <tr>\n",
              "      <th>f</th>\n",
              "      <td>Michael</td>\n",
              "      <td>20.0</td>\n",
              "      <td>3</td>\n",
              "      <td>yes</td>\n",
              "    </tr>\n",
              "    <tr>\n",
              "      <th>j</th>\n",
              "      <td>Jonas</td>\n",
              "      <td>19.0</td>\n",
              "      <td>1</td>\n",
              "      <td>yes</td>\n",
              "    </tr>\n",
              "    <tr>\n",
              "      <th>c</th>\n",
              "      <td>Katherine</td>\n",
              "      <td>16.5</td>\n",
              "      <td>2</td>\n",
              "      <td>yes</td>\n",
              "    </tr>\n",
              "  </tbody>\n",
              "</table>\n",
              "</div>"
            ],
            "text/plain": [
              "        name  score  attempts qualify\n",
              "f    Michael   20.0         3     yes\n",
              "j      Jonas   19.0         1     yes\n",
              "c  Katherine   16.5         2     yes"
            ]
          },
          "metadata": {
            "tags": []
          },
          "execution_count": 69
        }
      ]
    },
    {
      "cell_type": "markdown",
      "metadata": {
        "id": "-hggHa0gOu3O",
        "colab_type": "text"
      },
      "source": [
        "### duplicated()"
      ]
    },
    {
      "cell_type": "code",
      "metadata": {
        "id": "oDE7vBsAOx5I",
        "colab_type": "code",
        "colab": {
          "base_uri": "https://localhost:8080/",
          "height": 136
        },
        "outputId": "fa6105ef-f411-4b7a-ae09-74357b155589"
      },
      "source": [
        "df =  pd.DataFrame({'c1':[1,1,1], 'c2':[1,1,3]})\n",
        "print(df)\n",
        "print(df[df.duplicated()])\n",
        "print(df.duplicated().sum())"
      ],
      "execution_count": null,
      "outputs": [
        {
          "output_type": "stream",
          "text": [
            "   c1  c2\n",
            "0   1   1\n",
            "1   1   1\n",
            "2   1   3\n",
            "   c1  c2\n",
            "1   1   1\n",
            "1\n"
          ],
          "name": "stdout"
        }
      ]
    },
    {
      "cell_type": "code",
      "metadata": {
        "id": "8tHv6EPvQviS",
        "colab_type": "code",
        "colab": {
          "base_uri": "https://localhost:8080/",
          "height": 85
        },
        "outputId": "922a52a6-f5a9-4464-8e89-278f0873e138"
      },
      "source": [
        "df.c1.duplicated()"
      ],
      "execution_count": null,
      "outputs": [
        {
          "output_type": "execute_result",
          "data": {
            "text/plain": [
              "0    False\n",
              "1     True\n",
              "2     True\n",
              "Name: c1, dtype: bool"
            ]
          },
          "metadata": {
            "tags": []
          },
          "execution_count": 84
        }
      ]
    },
    {
      "cell_type": "markdown",
      "metadata": {
        "id": "oi_dOouuT7g2",
        "colab_type": "text"
      },
      "source": [
        "### df.info(memory_usage)"
      ]
    },
    {
      "cell_type": "code",
      "metadata": {
        "id": "mXRv7cRWT3xE",
        "colab_type": "code",
        "colab": {
          "base_uri": "https://localhost:8080/",
          "height": 170
        },
        "outputId": "582957d2-249d-4d6f-d634-581134efc82f"
      },
      "source": [
        "df.info(memory_usage='deep')"
      ],
      "execution_count": null,
      "outputs": [
        {
          "output_type": "stream",
          "text": [
            "<class 'pandas.core.frame.DataFrame'>\n",
            "RangeIndex: 3 entries, 0 to 2\n",
            "Data columns (total 2 columns):\n",
            " #   Column  Non-Null Count  Dtype\n",
            "---  ------  --------------  -----\n",
            " 0   c1      3 non-null      int64\n",
            " 1   c2      3 non-null      int64\n",
            "dtypes: int64(2)\n",
            "memory usage: 176.0 bytes\n"
          ],
          "name": "stdout"
        }
      ]
    },
    {
      "cell_type": "markdown",
      "metadata": {
        "id": "q-S1UlJNJPWo",
        "colab_type": "text"
      },
      "source": [
        "### Transpose"
      ]
    },
    {
      "cell_type": "code",
      "metadata": {
        "id": "J1TLMJVlKTHb",
        "colab_type": "code",
        "colab": {}
      },
      "source": [
        "exam_data = {'name': ['Anastasia', 'Dima', 'Katherine', 'James', 'Emily', 'Michael', 'Matthew', 'Laura', 'Kevin', 'Jonas'],\n",
        "'score': [12.5, 9, 16.5, np.nan, 9, 20, 14.5, np.nan, 8, 19],\n",
        "'attempts': [1, 3, 2, 3, 2, 3, 1, 1, 2, 1],\n",
        "'qualify': ['yes', 'no', 'yes', 'no', 'no', 'yes', 'yes', 'no', 'no', 'yes']}\n",
        "labels = ['a', 'b', 'c', 'd', 'e', 'f', 'g', 'h', 'i', 'j']\n",
        "df_exam_data = pd.DataFrame(exam_data, index=labels)"
      ],
      "execution_count": null,
      "outputs": []
    },
    {
      "cell_type": "code",
      "metadata": {
        "id": "avCJSVNjTb8A",
        "colab_type": "code",
        "colab": {
          "base_uri": "https://localhost:8080/",
          "height": 173
        },
        "outputId": "455b08b7-72af-42cb-dcb4-cefda8f1c709"
      },
      "source": [
        "df_exam_data.T"
      ],
      "execution_count": null,
      "outputs": [
        {
          "output_type": "execute_result",
          "data": {
            "text/html": [
              "<div>\n",
              "<style scoped>\n",
              "    .dataframe tbody tr th:only-of-type {\n",
              "        vertical-align: middle;\n",
              "    }\n",
              "\n",
              "    .dataframe tbody tr th {\n",
              "        vertical-align: top;\n",
              "    }\n",
              "\n",
              "    .dataframe thead th {\n",
              "        text-align: right;\n",
              "    }\n",
              "</style>\n",
              "<table border=\"1\" class=\"dataframe\">\n",
              "  <thead>\n",
              "    <tr style=\"text-align: right;\">\n",
              "      <th></th>\n",
              "      <th>a</th>\n",
              "      <th>b</th>\n",
              "      <th>c</th>\n",
              "      <th>d</th>\n",
              "      <th>e</th>\n",
              "      <th>f</th>\n",
              "      <th>g</th>\n",
              "      <th>h</th>\n",
              "      <th>i</th>\n",
              "      <th>j</th>\n",
              "    </tr>\n",
              "  </thead>\n",
              "  <tbody>\n",
              "    <tr>\n",
              "      <th>name</th>\n",
              "      <td>Anastasia</td>\n",
              "      <td>Dima</td>\n",
              "      <td>Katherine</td>\n",
              "      <td>James</td>\n",
              "      <td>Emily</td>\n",
              "      <td>Michael</td>\n",
              "      <td>Matthew</td>\n",
              "      <td>Laura</td>\n",
              "      <td>Kevin</td>\n",
              "      <td>Jonas</td>\n",
              "    </tr>\n",
              "    <tr>\n",
              "      <th>score</th>\n",
              "      <td>12.5</td>\n",
              "      <td>9</td>\n",
              "      <td>16.5</td>\n",
              "      <td>NaN</td>\n",
              "      <td>9</td>\n",
              "      <td>20</td>\n",
              "      <td>14.5</td>\n",
              "      <td>NaN</td>\n",
              "      <td>8</td>\n",
              "      <td>19</td>\n",
              "    </tr>\n",
              "    <tr>\n",
              "      <th>attempts</th>\n",
              "      <td>1</td>\n",
              "      <td>3</td>\n",
              "      <td>2</td>\n",
              "      <td>3</td>\n",
              "      <td>2</td>\n",
              "      <td>3</td>\n",
              "      <td>1</td>\n",
              "      <td>1</td>\n",
              "      <td>2</td>\n",
              "      <td>1</td>\n",
              "    </tr>\n",
              "    <tr>\n",
              "      <th>qualify</th>\n",
              "      <td>yes</td>\n",
              "      <td>no</td>\n",
              "      <td>yes</td>\n",
              "      <td>no</td>\n",
              "      <td>no</td>\n",
              "      <td>yes</td>\n",
              "      <td>yes</td>\n",
              "      <td>no</td>\n",
              "      <td>no</td>\n",
              "      <td>yes</td>\n",
              "    </tr>\n",
              "  </tbody>\n",
              "</table>\n",
              "</div>"
            ],
            "text/plain": [
              "                  a     b          c      d  ...        g      h      i      j\n",
              "name      Anastasia  Dima  Katherine  James  ...  Matthew  Laura  Kevin  Jonas\n",
              "score          12.5     9       16.5    NaN  ...     14.5    NaN      8     19\n",
              "attempts          1     3          2      3  ...        1      1      2      1\n",
              "qualify         yes    no        yes     no  ...      yes     no     no    yes\n",
              "\n",
              "[4 rows x 10 columns]"
            ]
          },
          "metadata": {
            "tags": []
          },
          "execution_count": 152
        }
      ]
    },
    {
      "cell_type": "markdown",
      "metadata": {
        "id": "8UV4k-P2JRRt",
        "colab_type": "text"
      },
      "source": [
        "### axes "
      ]
    },
    {
      "cell_type": "code",
      "metadata": {
        "id": "ZCWppMXaJX4F",
        "colab_type": "code",
        "colab": {
          "base_uri": "https://localhost:8080/",
          "height": 51
        },
        "outputId": "6d2e980a-03ae-4406-c8b1-b2ec419352fe"
      },
      "source": [
        "df_exam_data.axes"
      ],
      "execution_count": null,
      "outputs": [
        {
          "output_type": "execute_result",
          "data": {
            "text/plain": [
              "[Index(['a', 'b', 'c', 'd', 'e', 'f', 'g', 'h', 'i', 'j'], dtype='object'),\n",
              " Index(['name', 'score', 'qualify', 'color'], dtype='object')]"
            ]
          },
          "metadata": {
            "tags": []
          },
          "execution_count": 162
        }
      ]
    },
    {
      "cell_type": "markdown",
      "metadata": {
        "id": "o8PGSl8uuW8P",
        "colab_type": "text"
      },
      "source": [
        "### columns"
      ]
    },
    {
      "cell_type": "code",
      "metadata": {
        "id": "0UjusneOuPOs",
        "colab_type": "code",
        "colab": {
          "base_uri": "https://localhost:8080/",
          "height": 34
        },
        "outputId": "af856feb-6c2a-4e10-98db-3d6607c7418c"
      },
      "source": [
        "df_exam_data.columns.values"
      ],
      "execution_count": null,
      "outputs": [
        {
          "output_type": "execute_result",
          "data": {
            "text/plain": [
              "array(['name', 'score', 'qualify', 'color'], dtype=object)"
            ]
          },
          "metadata": {
            "tags": []
          },
          "execution_count": 166
        }
      ]
    },
    {
      "cell_type": "markdown",
      "metadata": {
        "id": "ICX-OGQUKLwY",
        "colab_type": "text"
      },
      "source": [
        "### shape"
      ]
    },
    {
      "cell_type": "code",
      "metadata": {
        "id": "qVXPd8xAKMwd",
        "colab_type": "code",
        "colab": {
          "base_uri": "https://localhost:8080/",
          "height": 34
        },
        "outputId": "2f56f836-0550-4028-f829-2eecf49a1988"
      },
      "source": [
        "df_exam_data.shape"
      ],
      "execution_count": null,
      "outputs": [
        {
          "output_type": "execute_result",
          "data": {
            "text/plain": [
              "(10, 4)"
            ]
          },
          "metadata": {
            "tags": []
          },
          "execution_count": 153
        }
      ]
    },
    {
      "cell_type": "markdown",
      "metadata": {
        "id": "tD_omF7bKjjc",
        "colab_type": "text"
      },
      "source": [
        "### Missing values isnull()"
      ]
    },
    {
      "cell_type": "code",
      "metadata": {
        "id": "afouAwJYKnKR",
        "colab_type": "code",
        "colab": {
          "base_uri": "https://localhost:8080/",
          "height": 111
        },
        "outputId": "b3708728-dd0f-47f6-d773-f51d102eade2"
      },
      "source": [
        "df_exam_data[df_exam_data['score'].isnull()]"
      ],
      "execution_count": null,
      "outputs": [
        {
          "output_type": "execute_result",
          "data": {
            "text/html": [
              "<div>\n",
              "<style scoped>\n",
              "    .dataframe tbody tr th:only-of-type {\n",
              "        vertical-align: middle;\n",
              "    }\n",
              "\n",
              "    .dataframe tbody tr th {\n",
              "        vertical-align: top;\n",
              "    }\n",
              "\n",
              "    .dataframe thead th {\n",
              "        text-align: right;\n",
              "    }\n",
              "</style>\n",
              "<table border=\"1\" class=\"dataframe\">\n",
              "  <thead>\n",
              "    <tr style=\"text-align: right;\">\n",
              "      <th></th>\n",
              "      <th>name</th>\n",
              "      <th>score</th>\n",
              "      <th>attempts</th>\n",
              "      <th>qualify</th>\n",
              "    </tr>\n",
              "  </thead>\n",
              "  <tbody>\n",
              "    <tr>\n",
              "      <th>d</th>\n",
              "      <td>James</td>\n",
              "      <td>NaN</td>\n",
              "      <td>3</td>\n",
              "      <td>no</td>\n",
              "    </tr>\n",
              "    <tr>\n",
              "      <th>h</th>\n",
              "      <td>Laura</td>\n",
              "      <td>NaN</td>\n",
              "      <td>1</td>\n",
              "      <td>no</td>\n",
              "    </tr>\n",
              "  </tbody>\n",
              "</table>\n",
              "</div>"
            ],
            "text/plain": [
              "    name  score  attempts qualify\n",
              "d  James    NaN         3      no\n",
              "h  Laura    NaN         1      no"
            ]
          },
          "metadata": {
            "tags": []
          },
          "execution_count": 4
        }
      ]
    },
    {
      "cell_type": "markdown",
      "metadata": {
        "id": "TaJpkDpF-A95",
        "colab_type": "text"
      },
      "source": [
        "- counting all NaN values in a DataFrame"
      ]
    },
    {
      "cell_type": "code",
      "metadata": {
        "id": "vnxhSpT7-ER6",
        "colab_type": "code",
        "colab": {
          "base_uri": "https://localhost:8080/",
          "height": 34
        },
        "outputId": "21d44642-d0b9-4799-c499-cf8b2232ef7d"
      },
      "source": [
        "df_exam_data.isnull().values.sum()"
      ],
      "execution_count": null,
      "outputs": [
        {
          "output_type": "execute_result",
          "data": {
            "text/plain": [
              "2"
            ]
          },
          "metadata": {
            "tags": []
          },
          "execution_count": 5
        }
      ]
    },
    {
      "cell_type": "markdown",
      "metadata": {
        "id": "HV4kdeKLsc-5",
        "colab_type": "text"
      },
      "source": [
        "### Sorting DataFrame sort_values()"
      ]
    },
    {
      "cell_type": "code",
      "metadata": {
        "id": "to3g_ln2shrE",
        "colab_type": "code",
        "colab": {}
      },
      "source": [
        "df_exam_data.sort_values(by=['name'])"
      ],
      "execution_count": null,
      "outputs": []
    },
    {
      "cell_type": "markdown",
      "metadata": {
        "id": "eCdtww6Lt2YJ",
        "colab_type": "text"
      },
      "source": [
        "### Iterating DataFrame rows"
      ]
    },
    {
      "cell_type": "code",
      "metadata": {
        "id": "EzOHqYKJt5eY",
        "colab_type": "code",
        "colab": {
          "base_uri": "https://localhost:8080/",
          "height": 187
        },
        "outputId": "8f0039bd-c1a0-4d64-ef97-6b20fd66c988"
      },
      "source": [
        "for index, row in df_exam_data.iterrows():\n",
        "    print(row['name'], row['score'])"
      ],
      "execution_count": null,
      "outputs": [
        {
          "output_type": "stream",
          "text": [
            "Anastasia 12.5\n",
            "Dima 9.0\n",
            "Katherine 16.5\n",
            "James 11.5\n",
            "Emily 9.0\n",
            "Michael 20.0\n",
            "Matthew 14.5\n",
            "Laura nan\n",
            "Kevin 8.0\n",
            "Jonas 19.0\n"
          ],
          "name": "stdout"
        }
      ]
    },
    {
      "cell_type": "markdown",
      "metadata": {
        "id": "VikvCUlXCuib",
        "colab_type": "text"
      },
      "source": [
        "### Statistical Sampling & Shuffeling"
      ]
    },
    {
      "cell_type": "code",
      "metadata": {
        "id": "9I-ECQEPCyFP",
        "colab_type": "code",
        "colab": {
          "base_uri": "https://localhost:8080/",
          "height": 142
        },
        "outputId": "7ffce929-e338-4499-842d-39bd257473e8"
      },
      "source": [
        "df_x = pd.DataFrame({\"scores\": [1,2,3,4,5,6,7,8,9,10]})\n",
        "df_x_train = df_x.sample(frac=0.7) # random_state=10\n",
        "df_x_test = df_x.drop(df_x_train.index)\n",
        "df_x_test"
      ],
      "execution_count": null,
      "outputs": [
        {
          "output_type": "execute_result",
          "data": {
            "text/html": [
              "<div>\n",
              "<style scoped>\n",
              "    .dataframe tbody tr th:only-of-type {\n",
              "        vertical-align: middle;\n",
              "    }\n",
              "\n",
              "    .dataframe tbody tr th {\n",
              "        vertical-align: top;\n",
              "    }\n",
              "\n",
              "    .dataframe thead th {\n",
              "        text-align: right;\n",
              "    }\n",
              "</style>\n",
              "<table border=\"1\" class=\"dataframe\">\n",
              "  <thead>\n",
              "    <tr style=\"text-align: right;\">\n",
              "      <th></th>\n",
              "      <th>scores</th>\n",
              "    </tr>\n",
              "  </thead>\n",
              "  <tbody>\n",
              "    <tr>\n",
              "      <th>0</th>\n",
              "      <td>1</td>\n",
              "    </tr>\n",
              "    <tr>\n",
              "      <th>7</th>\n",
              "      <td>8</td>\n",
              "    </tr>\n",
              "    <tr>\n",
              "      <th>9</th>\n",
              "      <td>10</td>\n",
              "    </tr>\n",
              "  </tbody>\n",
              "</table>\n",
              "</div>"
            ],
            "text/plain": [
              "   scores\n",
              "0       1\n",
              "7       8\n",
              "9      10"
            ]
          },
          "metadata": {
            "tags": []
          },
          "execution_count": 29
        }
      ]
    },
    {
      "cell_type": "code",
      "metadata": {
        "id": "j9N4B1a3HiM6",
        "colab_type": "code",
        "colab": {
          "base_uri": "https://localhost:8080/",
          "height": 359
        },
        "outputId": "92057132-495c-41af-f467-8a557de8b155"
      },
      "source": [
        "df_x = pd.DataFrame({\"scores\": [1,2,3,4,5,6,7,8,9,10]})\n",
        "df_shuffel = df_x.sample(frac=1) # random_state=10\n",
        "df_shuffel"
      ],
      "execution_count": null,
      "outputs": [
        {
          "output_type": "execute_result",
          "data": {
            "text/html": [
              "<div>\n",
              "<style scoped>\n",
              "    .dataframe tbody tr th:only-of-type {\n",
              "        vertical-align: middle;\n",
              "    }\n",
              "\n",
              "    .dataframe tbody tr th {\n",
              "        vertical-align: top;\n",
              "    }\n",
              "\n",
              "    .dataframe thead th {\n",
              "        text-align: right;\n",
              "    }\n",
              "</style>\n",
              "<table border=\"1\" class=\"dataframe\">\n",
              "  <thead>\n",
              "    <tr style=\"text-align: right;\">\n",
              "      <th></th>\n",
              "      <th>scores</th>\n",
              "    </tr>\n",
              "  </thead>\n",
              "  <tbody>\n",
              "    <tr>\n",
              "      <th>2</th>\n",
              "      <td>3</td>\n",
              "    </tr>\n",
              "    <tr>\n",
              "      <th>7</th>\n",
              "      <td>8</td>\n",
              "    </tr>\n",
              "    <tr>\n",
              "      <th>4</th>\n",
              "      <td>5</td>\n",
              "    </tr>\n",
              "    <tr>\n",
              "      <th>3</th>\n",
              "      <td>4</td>\n",
              "    </tr>\n",
              "    <tr>\n",
              "      <th>5</th>\n",
              "      <td>6</td>\n",
              "    </tr>\n",
              "    <tr>\n",
              "      <th>8</th>\n",
              "      <td>9</td>\n",
              "    </tr>\n",
              "    <tr>\n",
              "      <th>0</th>\n",
              "      <td>1</td>\n",
              "    </tr>\n",
              "    <tr>\n",
              "      <th>9</th>\n",
              "      <td>10</td>\n",
              "    </tr>\n",
              "    <tr>\n",
              "      <th>6</th>\n",
              "      <td>7</td>\n",
              "    </tr>\n",
              "    <tr>\n",
              "      <th>1</th>\n",
              "      <td>2</td>\n",
              "    </tr>\n",
              "  </tbody>\n",
              "</table>\n",
              "</div>"
            ],
            "text/plain": [
              "   scores\n",
              "2       3\n",
              "7       8\n",
              "4       5\n",
              "3       4\n",
              "5       6\n",
              "8       9\n",
              "0       1\n",
              "9      10\n",
              "6       7\n",
              "1       2"
            ]
          },
          "metadata": {
            "tags": []
          },
          "execution_count": 50
        }
      ]
    },
    {
      "cell_type": "markdown",
      "metadata": {
        "id": "6jl8qjZDx2Fi",
        "colab_type": "text"
      },
      "source": [
        "# Exercises\n",
        "1. Filter words from a given series that contain atleast two vowels\n",
        " "
      ]
    },
    {
      "cell_type": "code",
      "metadata": {
        "id": "l1sPOxoCx6DQ",
        "colab_type": "code",
        "colab": {}
      },
      "source": [
        "# hint: series.map(lambda c: sum([Counter(c.lower()).get(i, 0) for i in list('aeiou')]) >= 2)"
      ],
      "execution_count": null,
      "outputs": []
    },
    {
      "cell_type": "markdown",
      "metadata": {
        "id": "kTxe4YBny922",
        "colab_type": "text"
      },
      "source": [
        "2. Find peaks in a series. Values neigbored by two smaller values."
      ]
    },
    {
      "cell_type": "code",
      "metadata": {
        "id": "jQcz5l5Vy_B8",
        "colab_type": "code",
        "colab": {}
      },
      "source": [
        "nums = pd.Series([1, 8, 7, 5, 6, 5, 3, 4, 7, 1])\n",
        "diff_sign = (nums.diff())/(nums.diff().abs())\n",
        "print(diff_sign)\n",
        "diff2 = diff_sign.diff()\n",
        "nums[diff2[diff2 == -2].index - 1]"
      ],
      "execution_count": null,
      "outputs": []
    },
    {
      "cell_type": "markdown",
      "metadata": {
        "id": "6m6TLge2E507",
        "colab_type": "text"
      },
      "source": [
        "3. Compute the autocorrelations of a given numeric series"
      ]
    },
    {
      "cell_type": "code",
      "metadata": {
        "id": "yb2a8M390EMB",
        "colab_type": "code",
        "colab": {}
      },
      "source": [
        "nums = pd.Series([1, 8, 7, 5, 6, 5, 3, 4, 7, 1])\n",
        "autocorrelations = [nums.autocorr(i).round(2) for i in range(nums.count())]\n",
        "autocorrelations"
      ],
      "execution_count": null,
      "outputs": []
    },
    {
      "cell_type": "markdown",
      "metadata": {
        "id": "a518ZJhyRRsz",
        "colab_type": "text"
      },
      "source": [
        "4. Working with datasets\n",
        " - Using the movies dataset, \n",
        "    - write a Pandas program to display the movies (title, runtime) longer than 30 minutes and shorter than 360 minutes. [Hint: df[ (df.col >= X) & (df.col2 <= Y)]]\n",
        "    - Write a Pandas program to calculate the number of votes garnered by the 80% of the movies. [Hint: quantile(0.70)]\n",
        "    - Write a Pandas program to access those movies, released after 1995-01-01.\n",
        " - Using the diamonds dataset\n",
        "    - Write a Pandas program to get sample 75% of the diamonds DataFrame's rows without replacement and store the remaining 25% of the rows in another DataFrame. [Hint: sample(0.70)]\n",
        "    - Write a Pandas program to read rows in which the 'cut' is 'Premium', column 'color' of diamonds DataFrame. [Hint: diamonds.loc[diamonds.cut=='Premium', 'color']\n",
        "    - Write a Pandas program to calculate the multiply of length, width and depth for each cut of diamonds DataFrame."
      ]
    }
  ]
}